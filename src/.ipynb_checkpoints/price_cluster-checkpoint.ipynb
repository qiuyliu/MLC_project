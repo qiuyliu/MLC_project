{
 "cells": [
  {
   "cell_type": "code",
   "execution_count": 1,
   "metadata": {},
   "outputs": [],
   "source": [
    "import numpy as np\n",
    "import pandas as pd\n",
    "import seaborn as sns\n",
    "import matplotlib.pyplot as plt\n",
    "import geopandas as gpd\n",
    "import shapely\n",
    "import choroplethNYC as cp\n",
    "%matplotlib inline"
   ]
  },
  {
   "cell_type": "code",
   "execution_count": 2,
   "metadata": {},
   "outputs": [],
   "source": [
    "data = pd.read_csv('geo_housing.csv')"
   ]
  },
  {
   "cell_type": "code",
   "execution_count": 3,
   "metadata": {},
   "outputs": [],
   "source": [
    "from sklearn import preprocessing\n",
    "from sklearn.preprocessing import StandardScaler  \n",
    "from scipy import stats\n",
    "from sklearn.cluster import KMeans\n",
    "from sklearn import metrics\n",
    "from sklearn.preprocessing import scale \n",
    "from sklearn.model_selection import train_test_split\n",
    "from sklearn.linear_model import Ridge, RidgeCV, Lasso, LassoCV\n",
    "from sklearn.metrics import mean_squared_error\n",
    "from scipy.cluster.hierarchy import dendrogram, linkage\n",
    "from scipy.cluster.hierarchy import fcluster"
   ]
  },
  {
   "cell_type": "code",
   "execution_count": 4,
   "metadata": {},
   "outputs": [
    {
     "data": {
      "text/plain": [
       "Index(['Unnamed: 0', 'Unnamed: 0.1', 'unit', 'status', 'no_rooms', 'no_bath',\n",
       "       'area(ftsq)', 'id', 'date', 'price', 'bldname', 'address', 'type',\n",
       "       'top_amenity', 'amenities', 'transp1', 'transp2', 'transp3', 'transp4',\n",
       "       'transp5', 'units', 'stories', 'year', 'latitude', 'longitude',\n",
       "       'postcode'],\n",
       "      dtype='object')"
      ]
     },
     "execution_count": 4,
     "metadata": {},
     "output_type": "execute_result"
    }
   ],
   "source": [
    "data.columns"
   ]
  },
  {
   "cell_type": "code",
   "execution_count": 5,
   "metadata": {},
   "outputs": [],
   "source": [
    "dfs = data[['no_rooms','no_bath','price','latitude','longitude']]"
   ]
  },
  {
   "cell_type": "code",
   "execution_count": 6,
   "metadata": {},
   "outputs": [
    {
     "name": "stderr",
     "output_type": "stream",
     "text": [
      "/Users/aliceliu/anaconda/envs/myenv/lib/python3.6/site-packages/ipykernel_launcher.py:1: FutureWarning: convert_objects is deprecated.  To re-infer data dtypes for object columns, use DataFrame.infer_objects()\n",
      "For all other conversions use the data-type specific converters pd.to_datetime, pd.to_timedelta and pd.to_numeric.\n",
      "  \"\"\"Entry point for launching an IPython kernel.\n"
     ]
    }
   ],
   "source": [
    "dfs = dfs.convert_objects(convert_numeric=True)"
   ]
  },
  {
   "cell_type": "code",
   "execution_count": 7,
   "metadata": {},
   "outputs": [],
   "source": [
    "dfs = dfs.dropna(subset=['no_bath'])"
   ]
  },
  {
   "cell_type": "code",
   "execution_count": 8,
   "metadata": {},
   "outputs": [
    {
     "data": {
      "text/plain": [
       "(13608, 5)"
      ]
     },
     "execution_count": 8,
     "metadata": {},
     "output_type": "execute_result"
    }
   ],
   "source": [
    "dfs.shape"
   ]
  },
  {
   "cell_type": "markdown",
   "metadata": {},
   "source": [
    "### Features Observed"
   ]
  },
  {
   "cell_type": "code",
   "execution_count": 9,
   "metadata": {},
   "outputs": [],
   "source": [
    "features_df = dfs[['no_rooms','no_bath']]"
   ]
  },
  {
   "cell_type": "code",
   "execution_count": 10,
   "metadata": {},
   "outputs": [],
   "source": [
    "x = features_df #returns a numpy array\n",
    "min_max_scaler = preprocessing.MinMaxScaler()\n",
    "x_scaled = min_max_scaler.fit_transform(x)\n",
    "df = pd.DataFrame(x_scaled)"
   ]
  },
  {
   "cell_type": "code",
   "execution_count": 11,
   "metadata": {},
   "outputs": [
    {
     "data": {
      "text/html": [
       "<div>\n",
       "<style scoped>\n",
       "    .dataframe tbody tr th:only-of-type {\n",
       "        vertical-align: middle;\n",
       "    }\n",
       "\n",
       "    .dataframe tbody tr th {\n",
       "        vertical-align: top;\n",
       "    }\n",
       "\n",
       "    .dataframe thead th {\n",
       "        text-align: right;\n",
       "    }\n",
       "</style>\n",
       "<table border=\"1\" class=\"dataframe\">\n",
       "  <thead>\n",
       "    <tr style=\"text-align: right;\">\n",
       "      <th></th>\n",
       "      <th>0</th>\n",
       "      <th>1</th>\n",
       "    </tr>\n",
       "  </thead>\n",
       "  <tbody>\n",
       "    <tr>\n",
       "      <th>0</th>\n",
       "      <td>0.000000</td>\n",
       "      <td>0.043478</td>\n",
       "    </tr>\n",
       "    <tr>\n",
       "      <th>1</th>\n",
       "      <td>0.333333</td>\n",
       "      <td>0.043478</td>\n",
       "    </tr>\n",
       "    <tr>\n",
       "      <th>2</th>\n",
       "      <td>0.333333</td>\n",
       "      <td>0.043478</td>\n",
       "    </tr>\n",
       "    <tr>\n",
       "      <th>3</th>\n",
       "      <td>0.333333</td>\n",
       "      <td>0.043478</td>\n",
       "    </tr>\n",
       "    <tr>\n",
       "      <th>4</th>\n",
       "      <td>0.333333</td>\n",
       "      <td>0.043478</td>\n",
       "    </tr>\n",
       "  </tbody>\n",
       "</table>\n",
       "</div>"
      ],
      "text/plain": [
       "          0         1\n",
       "0  0.000000  0.043478\n",
       "1  0.333333  0.043478\n",
       "2  0.333333  0.043478\n",
       "3  0.333333  0.043478\n",
       "4  0.333333  0.043478"
      ]
     },
     "execution_count": 11,
     "metadata": {},
     "output_type": "execute_result"
    }
   ],
   "source": [
    "df.head()"
   ]
  },
  {
   "cell_type": "code",
   "execution_count": 12,
   "metadata": {},
   "outputs": [
    {
     "data": {
      "image/png": "[encoded data removed]",
      "text/plain": [
       "<Figure size 432x288 with 1 Axes>"
      ]
     },
     "metadata": {
      "needs_background": "light"
     },
     "output_type": "display_data"
    }
   ],
   "source": [
    "from scipy.spatial.distance import cdist, pdist\n",
    "\n",
    "k_range = range(1,10)\n",
    "# Try clustering the data for k values ranging 1 to 10\n",
    "k_means_var = [KMeans(n_clusters = k).fit(df) for k in k_range]\n",
    "centroids = [X.cluster_centers_ for X in k_means_var]\n",
    "\n",
    "k_euclid = [cdist(df, cent, 'euclidean') for cent in centroids]\n",
    "dist = [np.min(ke, axis=1) for ke in k_euclid]\n",
    "\n",
    "wcss = [sum(d**2) for d in dist]\n",
    "\n",
    "import matplotlib.pyplot as plt\n",
    "plt.plot(k_range, wcss)\n",
    "plt.xlabel('Range of k')\n",
    "plt.ylabel('RSS within cluster')\n",
    "plt.title('Elbow plot of no_rooms V/S no_baths')\n",
    "plt.show()"
   ]
  },
  {
   "cell_type": "markdown",
   "metadata": {},
   "source": [
    "### best cluster of 3"
   ]
  },
  {
   "cell_type": "code",
   "execution_count": 13,
   "metadata": {},
   "outputs": [],
   "source": [
    "kmeans = KMeans(n_clusters=3, random_state=234).fit(df)\n",
    "labels = kmeans.labels_\n",
    "df['clusters'] = labels\n",
    "df2 = df.rename(columns = {0 : 'no_rooms',\n",
    "                          1 : 'no_bath',\n",
    "                          2 : 'price'})"
   ]
  },
  {
   "cell_type": "code",
   "execution_count": 14,
   "metadata": {},
   "outputs": [
    {
     "data": {
      "text/html": [
       "<div>\n",
       "<style scoped>\n",
       "    .dataframe tbody tr th:only-of-type {\n",
       "        vertical-align: middle;\n",
       "    }\n",
       "\n",
       "    .dataframe tbody tr th {\n",
       "        vertical-align: top;\n",
       "    }\n",
       "\n",
       "    .dataframe thead th {\n",
       "        text-align: right;\n",
       "    }\n",
       "</style>\n",
       "<table border=\"1\" class=\"dataframe\">\n",
       "  <thead>\n",
       "    <tr style=\"text-align: right;\">\n",
       "      <th></th>\n",
       "      <th>no_rooms</th>\n",
       "      <th>no_bath</th>\n",
       "      <th>clusters</th>\n",
       "    </tr>\n",
       "  </thead>\n",
       "  <tbody>\n",
       "    <tr>\n",
       "      <th>0</th>\n",
       "      <td>0.000000</td>\n",
       "      <td>0.043478</td>\n",
       "      <td>0</td>\n",
       "    </tr>\n",
       "    <tr>\n",
       "      <th>1</th>\n",
       "      <td>0.333333</td>\n",
       "      <td>0.043478</td>\n",
       "      <td>1</td>\n",
       "    </tr>\n",
       "    <tr>\n",
       "      <th>2</th>\n",
       "      <td>0.333333</td>\n",
       "      <td>0.043478</td>\n",
       "      <td>1</td>\n",
       "    </tr>\n",
       "    <tr>\n",
       "      <th>3</th>\n",
       "      <td>0.333333</td>\n",
       "      <td>0.043478</td>\n",
       "      <td>1</td>\n",
       "    </tr>\n",
       "    <tr>\n",
       "      <th>4</th>\n",
       "      <td>0.333333</td>\n",
       "      <td>0.043478</td>\n",
       "      <td>1</td>\n",
       "    </tr>\n",
       "  </tbody>\n",
       "</table>\n",
       "</div>"
      ],
      "text/plain": [
       "   no_rooms   no_bath  clusters\n",
       "0  0.000000  0.043478         0\n",
       "1  0.333333  0.043478         1\n",
       "2  0.333333  0.043478         1\n",
       "3  0.333333  0.043478         1\n",
       "4  0.333333  0.043478         1"
      ]
     },
     "execution_count": 14,
     "metadata": {},
     "output_type": "execute_result"
    }
   ],
   "source": [
    "df2.head()"
   ]
  },
  {
   "cell_type": "code",
   "execution_count": 15,
   "metadata": {},
   "outputs": [
    {
     "data": {
      "image/png": "[encoded data removed]",
      "text/plain": [
       "<Figure size 407.375x360 with 1 Axes>"
      ]
     },
     "metadata": {
      "needs_background": "light"
     },
     "output_type": "display_data"
    }
   ],
   "source": [
    "sns.lmplot('no_rooms', 'no_bath', data = df2, fit_reg=False,hue=\"clusters\",  scatter_kws={\"marker\": \"D\", \"s\": 100})\n",
    "plt.title('no_rooms v/s no_bath')\n",
    "plt.xlabel('no_rooms')\n",
    "plt.ylabel('no_bath')\n",
    "plt.show()"
   ]
  },
  {
   "cell_type": "code",
   "execution_count": 16,
   "metadata": {},
   "outputs": [],
   "source": [
    "coordination =dfs[['latitude', 'longitude']]"
   ]
  },
  {
   "cell_type": "code",
   "execution_count": 17,
   "metadata": {},
   "outputs": [
    {
     "data": {
      "text/html": [
       "<div>\n",
       "<style scoped>\n",
       "    .dataframe tbody tr th:only-of-type {\n",
       "        vertical-align: middle;\n",
       "    }\n",
       "\n",
       "    .dataframe tbody tr th {\n",
       "        vertical-align: top;\n",
       "    }\n",
       "\n",
       "    .dataframe thead th {\n",
       "        text-align: right;\n",
       "    }\n",
       "</style>\n",
       "<table border=\"1\" class=\"dataframe\">\n",
       "  <thead>\n",
       "    <tr style=\"text-align: right;\">\n",
       "      <th></th>\n",
       "      <th>0</th>\n",
       "      <th>1</th>\n",
       "      <th>clusters</th>\n",
       "    </tr>\n",
       "  </thead>\n",
       "  <tbody>\n",
       "    <tr>\n",
       "      <th>0</th>\n",
       "      <td>0.000000</td>\n",
       "      <td>0.043478</td>\n",
       "      <td>0</td>\n",
       "    </tr>\n",
       "    <tr>\n",
       "      <th>1</th>\n",
       "      <td>0.333333</td>\n",
       "      <td>0.043478</td>\n",
       "      <td>1</td>\n",
       "    </tr>\n",
       "    <tr>\n",
       "      <th>2</th>\n",
       "      <td>0.333333</td>\n",
       "      <td>0.043478</td>\n",
       "      <td>1</td>\n",
       "    </tr>\n",
       "    <tr>\n",
       "      <th>3</th>\n",
       "      <td>0.333333</td>\n",
       "      <td>0.043478</td>\n",
       "      <td>1</td>\n",
       "    </tr>\n",
       "    <tr>\n",
       "      <th>4</th>\n",
       "      <td>0.333333</td>\n",
       "      <td>0.043478</td>\n",
       "      <td>1</td>\n",
       "    </tr>\n",
       "  </tbody>\n",
       "</table>\n",
       "</div>"
      ],
      "text/plain": [
       "          0         1  clusters\n",
       "0  0.000000  0.043478         0\n",
       "1  0.333333  0.043478         1\n",
       "2  0.333333  0.043478         1\n",
       "3  0.333333  0.043478         1\n",
       "4  0.333333  0.043478         1"
      ]
     },
     "execution_count": 17,
     "metadata": {},
     "output_type": "execute_result"
    }
   ],
   "source": [
    "df.head()"
   ]
  },
  {
   "cell_type": "code",
   "execution_count": 18,
   "metadata": {},
   "outputs": [],
   "source": [
    "x = coordination #returns a numpy array\n",
    "min_max_scaler = preprocessing.MinMaxScaler()\n",
    "x_scaled = min_max_scaler.fit_transform(x)\n",
    "df = pd.DataFrame(x_scaled)"
   ]
  },
  {
   "cell_type": "code",
   "execution_count": 19,
   "metadata": {},
   "outputs": [
    {
     "name": "stdout",
     "output_type": "stream",
     "text": [
      "[152.7358615252706, 57.72550230416268, 40.554490469240534, 32.84115687154711, 27.337742676911777, 22.08185114670045, 18.08055959871214, 15.211531627847508]\n"
     ]
    },
    {
     "data": {
      "image/png": "[encoded data removed]",
      "text/plain": [
       "<Figure size 432x288 with 1 Axes>"
      ]
     },
     "metadata": {
      "needs_background": "light"
     },
     "output_type": "display_data"
    }
   ],
   "source": [
    "SSE = []\n",
    "for i in range(2,10):\n",
    "    km = KMeans(n_clusters = i)\n",
    "    res=km.fit(df)\n",
    "    SSE.append(res.inertia_)\n",
    "print(SSE)\n",
    "\n",
    "plt.gca()\n",
    "plt.plot(range(2,10),SSE)\n",
    "plt.xlabel(\"Clusters\")\n",
    "plt.ylabel(\"Sum of squared errors\")\n",
    "plt.title(\"SSE vs. number of clusters\")\n",
    "plt.xlim(1.5,9.5)\n",
    "plt.show()"
   ]
  },
  {
   "cell_type": "markdown",
   "metadata": {},
   "source": [
    "### clusters of 4 is the best"
   ]
  },
  {
   "cell_type": "code",
   "execution_count": 20,
   "metadata": {},
   "outputs": [],
   "source": [
    "kmeans = KMeans(n_clusters=4, random_state=234).fit(df)\n",
    "labels = kmeans.labels_\n",
    "df['clusters'] = labels\n",
    "df2 = df.rename(columns = {0 : 'latitude',\n",
    "                          1 : 'longitude'})"
   ]
  },
  {
   "cell_type": "code",
   "execution_count": 21,
   "metadata": {},
   "outputs": [
    {
     "data": {
      "image/png": "[encoded data removed]",
      "text/plain": [
       "<Figure size 407.375x360 with 1 Axes>"
      ]
     },
     "metadata": {
      "needs_background": "light"
     },
     "output_type": "display_data"
    }
   ],
   "source": [
    "sns.lmplot('latitude', 'longitude', data = df2, fit_reg=False,hue=\"clusters\",  scatter_kws={\"marker\": \"D\", \"s\": 100})\n",
    "plt.title('latitude v/s longitude')\n",
    "plt.xlabel('no_bath')\n",
    "plt.ylabel('price')\n",
    "plt.show()"
   ]
  },
  {
   "cell_type": "markdown",
   "metadata": {},
   "source": [
    "### Clustering on Price"
   ]
  },
  {
   "cell_type": "code",
   "execution_count": 22,
   "metadata": {},
   "outputs": [],
   "source": [
    "temp = dfs[['price']]"
   ]
  },
  {
   "cell_type": "code",
   "execution_count": 23,
   "metadata": {},
   "outputs": [],
   "source": [
    "x = temp #returns a numpy array\n",
    "min_max_scaler = preprocessing.MinMaxScaler()\n",
    "x_scaled = min_max_scaler.fit_transform(x)\n",
    "df = pd.DataFrame(x_scaled)"
   ]
  },
  {
   "cell_type": "code",
   "execution_count": 24,
   "metadata": {},
   "outputs": [
    {
     "data": {
      "text/html": [
       "<div>\n",
       "<style scoped>\n",
       "    .dataframe tbody tr th:only-of-type {\n",
       "        vertical-align: middle;\n",
       "    }\n",
       "\n",
       "    .dataframe tbody tr th {\n",
       "        vertical-align: top;\n",
       "    }\n",
       "\n",
       "    .dataframe thead th {\n",
       "        text-align: right;\n",
       "    }\n",
       "</style>\n",
       "<table border=\"1\" class=\"dataframe\">\n",
       "  <thead>\n",
       "    <tr style=\"text-align: right;\">\n",
       "      <th></th>\n",
       "      <th>0</th>\n",
       "    </tr>\n",
       "  </thead>\n",
       "  <tbody>\n",
       "    <tr>\n",
       "      <th>0</th>\n",
       "      <td>0.014773</td>\n",
       "    </tr>\n",
       "    <tr>\n",
       "      <th>1</th>\n",
       "      <td>0.113523</td>\n",
       "    </tr>\n",
       "    <tr>\n",
       "      <th>2</th>\n",
       "      <td>0.100000</td>\n",
       "    </tr>\n",
       "    <tr>\n",
       "      <th>3</th>\n",
       "      <td>0.095455</td>\n",
       "    </tr>\n",
       "    <tr>\n",
       "      <th>4</th>\n",
       "      <td>0.125000</td>\n",
       "    </tr>\n",
       "  </tbody>\n",
       "</table>\n",
       "</div>"
      ],
      "text/plain": [
       "          0\n",
       "0  0.014773\n",
       "1  0.113523\n",
       "2  0.100000\n",
       "3  0.095455\n",
       "4  0.125000"
      ]
     },
     "execution_count": 24,
     "metadata": {},
     "output_type": "execute_result"
    }
   ],
   "source": [
    "df.head()"
   ]
  },
  {
   "cell_type": "code",
   "execution_count": 25,
   "metadata": {},
   "outputs": [
    {
     "data": {
      "image/png": "[encoded data removed]",
      "text/plain": [
       "<Figure size 432x288 with 1 Axes>"
      ]
     },
     "metadata": {
      "needs_background": "light"
     },
     "output_type": "display_data"
    }
   ],
   "source": [
    "from scipy.spatial.distance import cdist, pdist\n",
    "\n",
    "k_range = range(1,10)\n",
    "# Try clustering the data for k values ranging 1 to 10\n",
    "k_means_var = [KMeans(n_clusters = k).fit(df) for k in k_range]\n",
    "centroids = [X.cluster_centers_ for X in k_means_var]\n",
    "\n",
    "k_euclid = [cdist(df, cent, 'euclidean') for cent in centroids]\n",
    "dist = [np.min(ke, axis=1) for ke in k_euclid]\n",
    "\n",
    "wcss = [sum(d**2) for d in dist]\n",
    "\n",
    "import matplotlib.pyplot as plt\n",
    "plt.plot(k_range, wcss)\n",
    "plt.xlabel('Range of k')\n",
    "plt.ylabel('RSS within cluster')\n",
    "plt.title('Elbow plot of Lattitude V/S Longtitude')\n",
    "plt.show()"
   ]
  },
  {
   "cell_type": "code",
   "execution_count": 26,
   "metadata": {},
   "outputs": [
    {
     "name": "stdout",
     "output_type": "stream",
     "text": [
      "[8.902722350750736, 5.821897243684385, 3.675030688248939, 2.508782934377276, 1.875115681065993, 1.3619825471909666, 0.9932425247020246, 0.7961224909085212]\n"
     ]
    },
    {
     "data": {
      "image/png": "[encoded data removed]",
      "text/plain": [
       "<Figure size 432x288 with 1 Axes>"
      ]
     },
     "metadata": {
      "needs_background": "light"
     },
     "output_type": "display_data"
    }
   ],
   "source": [
    "SSE = []\n",
    "for i in range(2,10):\n",
    "    km = KMeans(n_clusters = i)\n",
    "    res=km.fit(df)\n",
    "    SSE.append(res.inertia_)\n",
    "print(SSE)\n",
    "\n",
    "plt.gca()\n",
    "plt.plot(range(2,10),SSE)\n",
    "plt.xlabel(\"Clusters\")\n",
    "plt.ylabel(\"Sum of squared errors\")\n",
    "plt.title(\"SSE vs. number of clusters\")\n",
    "plt.xlim(1.5,9.5)\n",
    "plt.show()"
   ]
  },
  {
   "cell_type": "code",
   "execution_count": 27,
   "metadata": {},
   "outputs": [],
   "source": [
    "kmeans = KMeans(n_clusters=3, random_state=234).fit(df)\n",
    "labels = kmeans.labels_\n",
    "df['clusters'] = labels\n",
    "#df2 = df.rename(columns = {0 : 'no_rooms',\n",
    "#                          1 : 'no_bath',\n",
    "#                          2 : 'price'})\n",
    "df2 = df.rename(columns = {0 : 'price'})"
   ]
  },
  {
   "cell_type": "code",
   "execution_count": 28,
   "metadata": {},
   "outputs": [],
   "source": [
    "#dfs\n",
    "dfs['clusters'] = labels"
   ]
  },
  {
   "cell_type": "code",
   "execution_count": 29,
   "metadata": {},
   "outputs": [
    {
     "data": {
      "text/html": [
       "<div>\n",
       "<style scoped>\n",
       "    .dataframe tbody tr th:only-of-type {\n",
       "        vertical-align: middle;\n",
       "    }\n",
       "\n",
       "    .dataframe tbody tr th {\n",
       "        vertical-align: top;\n",
       "    }\n",
       "\n",
       "    .dataframe thead th {\n",
       "        text-align: right;\n",
       "    }\n",
       "</style>\n",
       "<table border=\"1\" class=\"dataframe\">\n",
       "  <thead>\n",
       "    <tr style=\"text-align: right;\">\n",
       "      <th></th>\n",
       "      <th>no_rooms</th>\n",
       "      <th>no_bath</th>\n",
       "      <th>price</th>\n",
       "      <th>latitude</th>\n",
       "      <th>longitude</th>\n",
       "      <th>clusters</th>\n",
       "    </tr>\n",
       "  </thead>\n",
       "  <tbody>\n",
       "    <tr>\n",
       "      <th>0</th>\n",
       "      <td>0.0</td>\n",
       "      <td>1.0</td>\n",
       "      <td>1650.0</td>\n",
       "      <td>40.775707</td>\n",
       "      <td>-73.957205</td>\n",
       "      <td>0</td>\n",
       "    </tr>\n",
       "    <tr>\n",
       "      <th>1</th>\n",
       "      <td>2.0</td>\n",
       "      <td>1.0</td>\n",
       "      <td>5995.0</td>\n",
       "      <td>40.727683</td>\n",
       "      <td>-73.981419</td>\n",
       "      <td>2</td>\n",
       "    </tr>\n",
       "    <tr>\n",
       "      <th>2</th>\n",
       "      <td>2.0</td>\n",
       "      <td>1.0</td>\n",
       "      <td>5400.0</td>\n",
       "      <td>40.727683</td>\n",
       "      <td>-73.981419</td>\n",
       "      <td>2</td>\n",
       "    </tr>\n",
       "    <tr>\n",
       "      <th>3</th>\n",
       "      <td>2.0</td>\n",
       "      <td>1.0</td>\n",
       "      <td>5200.0</td>\n",
       "      <td>40.727683</td>\n",
       "      <td>-73.981419</td>\n",
       "      <td>2</td>\n",
       "    </tr>\n",
       "    <tr>\n",
       "      <th>4</th>\n",
       "      <td>2.0</td>\n",
       "      <td>1.0</td>\n",
       "      <td>6500.0</td>\n",
       "      <td>40.727683</td>\n",
       "      <td>-73.981419</td>\n",
       "      <td>1</td>\n",
       "    </tr>\n",
       "  </tbody>\n",
       "</table>\n",
       "</div>"
      ],
      "text/plain": [
       "   no_rooms  no_bath   price   latitude  longitude  clusters\n",
       "0       0.0      1.0  1650.0  40.775707 -73.957205         0\n",
       "1       2.0      1.0  5995.0  40.727683 -73.981419         2\n",
       "2       2.0      1.0  5400.0  40.727683 -73.981419         2\n",
       "3       2.0      1.0  5200.0  40.727683 -73.981419         2\n",
       "4       2.0      1.0  6500.0  40.727683 -73.981419         1"
      ]
     },
     "execution_count": 29,
     "metadata": {},
     "output_type": "execute_result"
    }
   ],
   "source": [
    "dfs.head()"
   ]
  },
  {
   "cell_type": "code",
   "execution_count": 48,
   "metadata": {},
   "outputs": [],
   "source": [
    "newDf = dfs[['no_rooms','no_bath','price','latitude','longitude','clusters']]"
   ]
  },
  {
   "cell_type": "code",
   "execution_count": 49,
   "metadata": {},
   "outputs": [],
   "source": [
    "newDf['lonlat'] = list(zip(newDf.longitude, newDf.latitude))\n",
    "#generate a \"geometry\" column\n",
    "newDf['geometry'] = newDf[['lonlat']].applymap(lambda x:shapely.geometry.Point(x))"
   ]
  },
  {
   "cell_type": "code",
   "execution_count": 50,
   "metadata": {},
   "outputs": [],
   "source": [
    "geo_df = gpd.GeoDataFrame(newDf, geometry='geometry')"
   ]
  },
  {
   "cell_type": "code",
   "execution_count": 51,
   "metadata": {},
   "outputs": [],
   "source": [
    "geo_df.crs = {'init': 'epsg:4326'}"
   ]
  },
  {
   "cell_type": "code",
   "execution_count": 52,
   "metadata": {},
   "outputs": [
    {
     "data": {
      "text/html": [
       "<div>\n",
       "<style scoped>\n",
       "    .dataframe tbody tr th:only-of-type {\n",
       "        vertical-align: middle;\n",
       "    }\n",
       "\n",
       "    .dataframe tbody tr th {\n",
       "        vertical-align: top;\n",
       "    }\n",
       "\n",
       "    .dataframe thead th {\n",
       "        text-align: right;\n",
       "    }\n",
       "</style>\n",
       "<table border=\"1\" class=\"dataframe\">\n",
       "  <thead>\n",
       "    <tr style=\"text-align: right;\">\n",
       "      <th></th>\n",
       "      <th>no_rooms</th>\n",
       "      <th>no_bath</th>\n",
       "      <th>price</th>\n",
       "      <th>latitude</th>\n",
       "      <th>longitude</th>\n",
       "      <th>clusters</th>\n",
       "      <th>lonlat</th>\n",
       "      <th>geometry</th>\n",
       "    </tr>\n",
       "  </thead>\n",
       "  <tbody>\n",
       "    <tr>\n",
       "      <th>0</th>\n",
       "      <td>0.0</td>\n",
       "      <td>1.0</td>\n",
       "      <td>1650.0</td>\n",
       "      <td>40.775707</td>\n",
       "      <td>-73.957205</td>\n",
       "      <td>0</td>\n",
       "      <td>(-73.95720500000002, 40.775707)</td>\n",
       "      <td>POINT (-73.95720500000002 40.775707)</td>\n",
       "    </tr>\n",
       "    <tr>\n",
       "      <th>1</th>\n",
       "      <td>2.0</td>\n",
       "      <td>1.0</td>\n",
       "      <td>5995.0</td>\n",
       "      <td>40.727683</td>\n",
       "      <td>-73.981419</td>\n",
       "      <td>2</td>\n",
       "      <td>(-73.98141919999998, 40.7276833)</td>\n",
       "      <td>POINT (-73.98141919999998 40.7276833)</td>\n",
       "    </tr>\n",
       "    <tr>\n",
       "      <th>2</th>\n",
       "      <td>2.0</td>\n",
       "      <td>1.0</td>\n",
       "      <td>5400.0</td>\n",
       "      <td>40.727683</td>\n",
       "      <td>-73.981419</td>\n",
       "      <td>2</td>\n",
       "      <td>(-73.98141919999998, 40.7276833)</td>\n",
       "      <td>POINT (-73.98141919999998 40.7276833)</td>\n",
       "    </tr>\n",
       "    <tr>\n",
       "      <th>3</th>\n",
       "      <td>2.0</td>\n",
       "      <td>1.0</td>\n",
       "      <td>5200.0</td>\n",
       "      <td>40.727683</td>\n",
       "      <td>-73.981419</td>\n",
       "      <td>2</td>\n",
       "      <td>(-73.98141919999998, 40.7276833)</td>\n",
       "      <td>POINT (-73.98141919999998 40.7276833)</td>\n",
       "    </tr>\n",
       "    <tr>\n",
       "      <th>4</th>\n",
       "      <td>2.0</td>\n",
       "      <td>1.0</td>\n",
       "      <td>6500.0</td>\n",
       "      <td>40.727683</td>\n",
       "      <td>-73.981419</td>\n",
       "      <td>1</td>\n",
       "      <td>(-73.98141919999998, 40.7276833)</td>\n",
       "      <td>POINT (-73.98141919999998 40.7276833)</td>\n",
       "    </tr>\n",
       "  </tbody>\n",
       "</table>\n",
       "</div>"
      ],
      "text/plain": [
       "   no_rooms  no_bath   price   latitude  longitude  clusters  \\\n",
       "0       0.0      1.0  1650.0  40.775707 -73.957205         0   \n",
       "1       2.0      1.0  5995.0  40.727683 -73.981419         2   \n",
       "2       2.0      1.0  5400.0  40.727683 -73.981419         2   \n",
       "3       2.0      1.0  5200.0  40.727683 -73.981419         2   \n",
       "4       2.0      1.0  6500.0  40.727683 -73.981419         1   \n",
       "\n",
       "                             lonlat                               geometry  \n",
       "0   (-73.95720500000002, 40.775707)   POINT (-73.95720500000002 40.775707)  \n",
       "1  (-73.98141919999998, 40.7276833)  POINT (-73.98141919999998 40.7276833)  \n",
       "2  (-73.98141919999998, 40.7276833)  POINT (-73.98141919999998 40.7276833)  \n",
       "3  (-73.98141919999998, 40.7276833)  POINT (-73.98141919999998 40.7276833)  \n",
       "4  (-73.98141919999998, 40.7276833)  POINT (-73.98141919999998 40.7276833)  "
      ]
     },
     "execution_count": 52,
     "metadata": {},
     "output_type": "execute_result"
    }
   ],
   "source": [
    "geo_df.head()"
   ]
  },
  {
   "cell_type": "code",
   "execution_count": 53,
   "metadata": {},
   "outputs": [
    {
     "name": "stderr",
     "output_type": "stream",
     "text": [
      "/Users/aliceliu/anaconda/envs/myenv/lib/python3.6/site-packages/seaborn/regression.py:546: UserWarning: The `size` paramter has been renamed to `height`; please update your code.\n",
      "  warnings.warn(msg, UserWarning)\n"
     ]
    },
    {
     "data": {
      "text/plain": [
       "<seaborn.axisgrid.FacetGrid at 0x1a245451d0>"
      ]
     },
     "execution_count": 53,
     "metadata": {},
     "output_type": "execute_result"
    },
    {
     "data": {
      "image/png": "[encoded data removed]",
      "text/plain": [
       "<Figure size 623.375x576 with 1 Axes>"
      ]
     },
     "metadata": {
      "needs_background": "light"
     },
     "output_type": "display_data"
    }
   ],
   "source": [
    "sns.lmplot(data=geo_df, x='latitude',y='longitude', hue='clusters',\n",
    "          fit_reg=False, legend=True, legend_out=True, size=8)\n",
    "\n"
   ]
  },
  {
   "cell_type": "code",
   "execution_count": 36,
   "metadata": {},
   "outputs": [],
   "source": [
    "pumashp = gpd.GeoDataFrame.from_file(\"geo_export_92ed6625-22aa-40bd-85e1-92aea9f80c48.shp\")"
   ]
  },
  {
   "cell_type": "code",
   "execution_count": 37,
   "metadata": {},
   "outputs": [],
   "source": [
    "pumashp.puma = pd.to_numeric(pumashp.puma)"
   ]
  },
  {
   "cell_type": "code",
   "execution_count": 38,
   "metadata": {},
   "outputs": [],
   "source": [
    "puma = pumashp[(pumashp.puma > 3800)&(pumashp.puma < 3811)].reset_index(drop=True)"
   ]
  },
  {
   "cell_type": "code",
   "execution_count": 39,
   "metadata": {},
   "outputs": [],
   "source": [
    "neighbor = ['Washington Heights - Inwood',\n",
    "           'Central Harlem - Morningside Heights',\n",
    "           'East Harlem',\n",
    "           'Upper West Side',\n",
    "           'Upper East Side',\n",
    "           'Chelsea - Clinton',\n",
    "           'Gramercy Park - Murray Hill',\n",
    "           'Greenwich Village - Soho',\n",
    "           'Union Square - Lower East Side',\n",
    "           'Lower Manhattan']"
   ]
  },
  {
   "cell_type": "code",
   "execution_count": 40,
   "metadata": {},
   "outputs": [],
   "source": [
    "puma['neighborhood'] = neighbor"
   ]
  },
  {
   "cell_type": "code",
   "execution_count": 41,
   "metadata": {},
   "outputs": [
    {
     "data": {
      "text/html": [
       "<div>\n",
       "<style scoped>\n",
       "    .dataframe tbody tr th:only-of-type {\n",
       "        vertical-align: middle;\n",
       "    }\n",
       "\n",
       "    .dataframe tbody tr th {\n",
       "        vertical-align: top;\n",
       "    }\n",
       "\n",
       "    .dataframe thead th {\n",
       "        text-align: right;\n",
       "    }\n",
       "</style>\n",
       "<table border=\"1\" class=\"dataframe\">\n",
       "  <thead>\n",
       "    <tr style=\"text-align: right;\">\n",
       "      <th></th>\n",
       "      <th>puma</th>\n",
       "      <th>shape_area</th>\n",
       "      <th>shape_leng</th>\n",
       "      <th>geometry</th>\n",
       "      <th>neighborhood</th>\n",
       "    </tr>\n",
       "  </thead>\n",
       "  <tbody>\n",
       "    <tr>\n",
       "      <th>0</th>\n",
       "      <td>3801</td>\n",
       "      <td>8.124958e+07</td>\n",
       "      <td>64103.138480</td>\n",
       "      <td>(POLYGON ((-73.92640556921116 40.8776214765373...</td>\n",
       "      <td>Washington Heights - Inwood</td>\n",
       "    </tr>\n",
       "    <tr>\n",
       "      <th>1</th>\n",
       "      <td>3802</td>\n",
       "      <td>4.689908e+07</td>\n",
       "      <td>37925.566208</td>\n",
       "      <td>POLYGON ((-73.96909103244369 40.80843016507839...</td>\n",
       "      <td>Central Harlem - Morningside Heights</td>\n",
       "    </tr>\n",
       "    <tr>\n",
       "      <th>2</th>\n",
       "      <td>3803</td>\n",
       "      <td>3.984279e+07</td>\n",
       "      <td>38064.749400</td>\n",
       "      <td>POLYGON ((-73.93515659173335 40.83268240673983...</td>\n",
       "      <td>East Harlem</td>\n",
       "    </tr>\n",
       "    <tr>\n",
       "      <th>3</th>\n",
       "      <td>3804</td>\n",
       "      <td>6.461212e+07</td>\n",
       "      <td>62599.500502</td>\n",
       "      <td>(POLYGON ((-73.92133752419279 40.8008521075021...</td>\n",
       "      <td>Upper West Side</td>\n",
       "    </tr>\n",
       "    <tr>\n",
       "      <th>4</th>\n",
       "      <td>3805</td>\n",
       "      <td>5.516881e+07</td>\n",
       "      <td>53561.096534</td>\n",
       "      <td>(POLYGON ((-73.95037548074407 40.7631738455804...</td>\n",
       "      <td>Upper East Side</td>\n",
       "    </tr>\n",
       "    <tr>\n",
       "      <th>5</th>\n",
       "      <td>3806</td>\n",
       "      <td>8.849786e+07</td>\n",
       "      <td>47538.426032</td>\n",
       "      <td>POLYGON ((-73.96147779967508 40.7986541564366,...</td>\n",
       "      <td>Chelsea - Clinton</td>\n",
       "    </tr>\n",
       "    <tr>\n",
       "      <th>6</th>\n",
       "      <td>3807</td>\n",
       "      <td>8.560261e+07</td>\n",
       "      <td>72181.026886</td>\n",
       "      <td>POLYGON ((-73.99667705784741 40.77351005394218...</td>\n",
       "      <td>Gramercy Park - Murray Hill</td>\n",
       "    </tr>\n",
       "    <tr>\n",
       "      <th>7</th>\n",
       "      <td>3808</td>\n",
       "      <td>4.498784e+07</td>\n",
       "      <td>44430.927768</td>\n",
       "      <td>(POLYGON ((-73.96236596889439 40.7242090616142...</td>\n",
       "      <td>Greenwich Village - Soho</td>\n",
       "    </tr>\n",
       "    <tr>\n",
       "      <th>8</th>\n",
       "      <td>3809</td>\n",
       "      <td>4.869347e+07</td>\n",
       "      <td>35299.804402</td>\n",
       "      <td>(POLYGON ((-73.98237340572007 40.7055433504376...</td>\n",
       "      <td>Union Square - Lower East Side</td>\n",
       "    </tr>\n",
       "    <tr>\n",
       "      <th>9</th>\n",
       "      <td>3810</td>\n",
       "      <td>8.104639e+07</td>\n",
       "      <td>122921.903883</td>\n",
       "      <td>(POLYGON ((-74.01092841268031 40.6844914725429...</td>\n",
       "      <td>Lower Manhattan</td>\n",
       "    </tr>\n",
       "  </tbody>\n",
       "</table>\n",
       "</div>"
      ],
      "text/plain": [
       "   puma    shape_area     shape_leng  \\\n",
       "0  3801  8.124958e+07   64103.138480   \n",
       "1  3802  4.689908e+07   37925.566208   \n",
       "2  3803  3.984279e+07   38064.749400   \n",
       "3  3804  6.461212e+07   62599.500502   \n",
       "4  3805  5.516881e+07   53561.096534   \n",
       "5  3806  8.849786e+07   47538.426032   \n",
       "6  3807  8.560261e+07   72181.026886   \n",
       "7  3808  4.498784e+07   44430.927768   \n",
       "8  3809  4.869347e+07   35299.804402   \n",
       "9  3810  8.104639e+07  122921.903883   \n",
       "\n",
       "                                            geometry  \\\n",
       "0  (POLYGON ((-73.92640556921116 40.8776214765373...   \n",
       "1  POLYGON ((-73.96909103244369 40.80843016507839...   \n",
       "2  POLYGON ((-73.93515659173335 40.83268240673983...   \n",
       "3  (POLYGON ((-73.92133752419279 40.8008521075021...   \n",
       "4  (POLYGON ((-73.95037548074407 40.7631738455804...   \n",
       "5  POLYGON ((-73.96147779967508 40.7986541564366,...   \n",
       "6  POLYGON ((-73.99667705784741 40.77351005394218...   \n",
       "7  (POLYGON ((-73.96236596889439 40.7242090616142...   \n",
       "8  (POLYGON ((-73.98237340572007 40.7055433504376...   \n",
       "9  (POLYGON ((-74.01092841268031 40.6844914725429...   \n",
       "\n",
       "                           neighborhood  \n",
       "0           Washington Heights - Inwood  \n",
       "1  Central Harlem - Morningside Heights  \n",
       "2                           East Harlem  \n",
       "3                       Upper West Side  \n",
       "4                       Upper East Side  \n",
       "5                     Chelsea - Clinton  \n",
       "6           Gramercy Park - Murray Hill  \n",
       "7              Greenwich Village - Soho  \n",
       "8        Union Square - Lower East Side  \n",
       "9                       Lower Manhattan  "
      ]
     },
     "execution_count": 41,
     "metadata": {},
     "output_type": "execute_result"
    }
   ],
   "source": [
    "puma"
   ]
  },
  {
   "cell_type": "code",
   "execution_count": 54,
   "metadata": {},
   "outputs": [],
   "source": [
    "cluster0 = geo_df[geo_df[\"clusters\"]==0]\n",
    "cluster1 = geo_df[geo_df[\"clusters\"]==1]\n",
    "cluster2 = geo_df[geo_df[\"clusters\"]==2]"
   ]
  },
  {
   "cell_type": "code",
   "execution_count": 90,
   "metadata": {
    "scrolled": true
   },
   "outputs": [
    {
     "ename": "SyntaxError",
     "evalue": "positional argument follows keyword argument (<ipython-input-90-81edd6bd00ff>, line 2)",
     "output_type": "error",
     "traceback": [
      "\u001b[0;36m  File \u001b[0;32m\"<ipython-input-90-81edd6bd00ff>\"\u001b[0;36m, line \u001b[0;32m2\u001b[0m\n\u001b[0;31m    cluster0.plot(column=None,'o', color='steelblue',ax=ax, label='cluster0')\u001b[0m\n\u001b[0m                             ^\u001b[0m\n\u001b[0;31mSyntaxError\u001b[0m\u001b[0;31m:\u001b[0m positional argument follows keyword argument\n"
     ]
    }
   ],
   "source": [
    "ax = puma.plot(figsize=(16,16), color='lightgrey', edgecolor = 'black')\n",
    "cluster0.plot(column=None, color='steelblue',ax=ax, label='cluster0')\n",
    "cluster1.plot(column=None, color='orange',ax=ax, label='cluster1')\n",
    "cluster2.plot(column=None, color='IndianRed',ax=ax, label='cluster2')\n",
    "ax.set_title(\" The clustering of rental prices on the NYC Community Districts\", fontsize=20)\n",
    "ax.set_ylabel(\"latitude\", fontsize=20)\n",
    "ax.set_xlabel(\"longitude\", fontsize=20)\n",
    "ax.legend(loc='upper left', fontsize='x-large')"
   ]
  },
  {
   "cell_type": "code",
   "execution_count": 56,
   "metadata": {},
   "outputs": [
    {
     "data": {
      "text/plain": [
       "count    7757.000000\n",
       "mean     2965.031069\n",
       "std       521.659333\n",
       "min      1000.000000\n",
       "25%      2580.000000\n",
       "50%      3000.000000\n",
       "75%      3395.000000\n",
       "max      3848.000000\n",
       "Name: price, dtype: float64"
      ]
     },
     "execution_count": 56,
     "metadata": {},
     "output_type": "execute_result"
    }
   ],
   "source": [
    "geo_df[geo_df[\"clusters\"] ==0].price.describe()"
   ]
  },
  {
   "cell_type": "code",
   "execution_count": 57,
   "metadata": {},
   "outputs": [
    {
     "data": {
      "text/plain": [
       "count     1371.000000\n",
       "mean      7750.280088\n",
       "std       2294.312199\n",
       "min       6245.000000\n",
       "25%       6722.500000\n",
       "50%       7255.000000\n",
       "75%       8062.500000\n",
       "max      45000.000000\n",
       "Name: price, dtype: float64"
      ]
     },
     "execution_count": 57,
     "metadata": {},
     "output_type": "execute_result"
    }
   ],
   "source": [
    "geo_df[geo_df[\"clusters\"] ==1].price.describe()"
   ]
  },
  {
   "cell_type": "code",
   "execution_count": 58,
   "metadata": {},
   "outputs": [
    {
     "data": {
      "text/plain": [
       "count    4480.000000\n",
       "mean     4705.575670\n",
       "std       659.751339\n",
       "min      3850.000000\n",
       "25%      4140.000000\n",
       "50%      4500.000000\n",
       "75%      5200.000000\n",
       "max      6225.000000\n",
       "Name: price, dtype: float64"
      ]
     },
     "execution_count": 58,
     "metadata": {},
     "output_type": "execute_result"
    }
   ],
   "source": [
    "geo_df[geo_df[\"clusters\"] ==2].price.describe()"
   ]
  },
  {
   "cell_type": "code",
   "execution_count": 93,
   "metadata": {},
   "outputs": [
    {
     "data": {
      "text/html": [
       "<div>\n",
       "<style scoped>\n",
       "    .dataframe tbody tr th:only-of-type {\n",
       "        vertical-align: middle;\n",
       "    }\n",
       "\n",
       "    .dataframe tbody tr th {\n",
       "        vertical-align: top;\n",
       "    }\n",
       "\n",
       "    .dataframe thead th {\n",
       "        text-align: right;\n",
       "    }\n",
       "</style>\n",
       "<table border=\"1\" class=\"dataframe\">\n",
       "  <thead>\n",
       "    <tr style=\"text-align: right;\">\n",
       "      <th></th>\n",
       "      <th>no_rooms</th>\n",
       "      <th>no_bath</th>\n",
       "      <th>price</th>\n",
       "      <th>latitude</th>\n",
       "      <th>longitude</th>\n",
       "      <th>clusters</th>\n",
       "      <th>lonlat</th>\n",
       "      <th>geometry</th>\n",
       "    </tr>\n",
       "  </thead>\n",
       "  <tbody>\n",
       "    <tr>\n",
       "      <th>0</th>\n",
       "      <td>0.0</td>\n",
       "      <td>1.0</td>\n",
       "      <td>1650.0</td>\n",
       "      <td>40.775707</td>\n",
       "      <td>-73.957205</td>\n",
       "      <td>0</td>\n",
       "      <td>(-73.95720500000002, 40.775707)</td>\n",
       "      <td>POINT (-73.95720500000002 40.775707)</td>\n",
       "    </tr>\n",
       "    <tr>\n",
       "      <th>1</th>\n",
       "      <td>2.0</td>\n",
       "      <td>1.0</td>\n",
       "      <td>5995.0</td>\n",
       "      <td>40.727683</td>\n",
       "      <td>-73.981419</td>\n",
       "      <td>2</td>\n",
       "      <td>(-73.98141919999998, 40.7276833)</td>\n",
       "      <td>POINT (-73.98141919999998 40.7276833)</td>\n",
       "    </tr>\n",
       "    <tr>\n",
       "      <th>2</th>\n",
       "      <td>2.0</td>\n",
       "      <td>1.0</td>\n",
       "      <td>5400.0</td>\n",
       "      <td>40.727683</td>\n",
       "      <td>-73.981419</td>\n",
       "      <td>2</td>\n",
       "      <td>(-73.98141919999998, 40.7276833)</td>\n",
       "      <td>POINT (-73.98141919999998 40.7276833)</td>\n",
       "    </tr>\n",
       "    <tr>\n",
       "      <th>3</th>\n",
       "      <td>2.0</td>\n",
       "      <td>1.0</td>\n",
       "      <td>5200.0</td>\n",
       "      <td>40.727683</td>\n",
       "      <td>-73.981419</td>\n",
       "      <td>2</td>\n",
       "      <td>(-73.98141919999998, 40.7276833)</td>\n",
       "      <td>POINT (-73.98141919999998 40.7276833)</td>\n",
       "    </tr>\n",
       "    <tr>\n",
       "      <th>4</th>\n",
       "      <td>2.0</td>\n",
       "      <td>1.0</td>\n",
       "      <td>6500.0</td>\n",
       "      <td>40.727683</td>\n",
       "      <td>-73.981419</td>\n",
       "      <td>1</td>\n",
       "      <td>(-73.98141919999998, 40.7276833)</td>\n",
       "      <td>POINT (-73.98141919999998 40.7276833)</td>\n",
       "    </tr>\n",
       "  </tbody>\n",
       "</table>\n",
       "</div>"
      ],
      "text/plain": [
       "   no_rooms  no_bath   price   latitude  longitude  clusters  \\\n",
       "0       0.0      1.0  1650.0  40.775707 -73.957205         0   \n",
       "1       2.0      1.0  5995.0  40.727683 -73.981419         2   \n",
       "2       2.0      1.0  5400.0  40.727683 -73.981419         2   \n",
       "3       2.0      1.0  5200.0  40.727683 -73.981419         2   \n",
       "4       2.0      1.0  6500.0  40.727683 -73.981419         1   \n",
       "\n",
       "                             lonlat                               geometry  \n",
       "0   (-73.95720500000002, 40.775707)   POINT (-73.95720500000002 40.775707)  \n",
       "1  (-73.98141919999998, 40.7276833)  POINT (-73.98141919999998 40.7276833)  \n",
       "2  (-73.98141919999998, 40.7276833)  POINT (-73.98141919999998 40.7276833)  \n",
       "3  (-73.98141919999998, 40.7276833)  POINT (-73.98141919999998 40.7276833)  \n",
       "4  (-73.98141919999998, 40.7276833)  POINT (-73.98141919999998 40.7276833)  "
      ]
     },
     "execution_count": 93,
     "metadata": {},
     "output_type": "execute_result"
    }
   ],
   "source": [
    "geo_df.head()"
   ]
  },
  {
   "cell_type": "code",
   "execution_count": 94,
   "metadata": {
    "scrolled": false
   },
   "outputs": [
    {
     "data": {
      "text/html": [
       "<div>\n",
       "<style scoped>\n",
       "    .dataframe tbody tr th:only-of-type {\n",
       "        vertical-align: middle;\n",
       "    }\n",
       "\n",
       "    .dataframe tbody tr th {\n",
       "        vertical-align: top;\n",
       "    }\n",
       "\n",
       "    .dataframe thead th {\n",
       "        text-align: right;\n",
       "    }\n",
       "</style>\n",
       "<table border=\"1\" class=\"dataframe\">\n",
       "  <thead>\n",
       "    <tr style=\"text-align: right;\">\n",
       "      <th></th>\n",
       "      <th></th>\n",
       "    </tr>\n",
       "    <tr>\n",
       "      <th>clusters</th>\n",
       "      <th>no_rooms</th>\n",
       "    </tr>\n",
       "  </thead>\n",
       "  <tbody>\n",
       "    <tr>\n",
       "      <th rowspan=\"7\" valign=\"top\">0</th>\n",
       "      <th>0.0</th>\n",
       "    </tr>\n",
       "    <tr>\n",
       "      <th>1.0</th>\n",
       "    </tr>\n",
       "    <tr>\n",
       "      <th>1.5</th>\n",
       "    </tr>\n",
       "    <tr>\n",
       "      <th>2.0</th>\n",
       "    </tr>\n",
       "    <tr>\n",
       "      <th>2.5</th>\n",
       "    </tr>\n",
       "    <tr>\n",
       "      <th>3.0</th>\n",
       "    </tr>\n",
       "    <tr>\n",
       "      <th>4.0</th>\n",
       "    </tr>\n",
       "    <tr>\n",
       "      <th rowspan=\"9\" valign=\"top\">1</th>\n",
       "      <th>0.0</th>\n",
       "    </tr>\n",
       "    <tr>\n",
       "      <th>1.0</th>\n",
       "    </tr>\n",
       "    <tr>\n",
       "      <th>1.5</th>\n",
       "    </tr>\n",
       "    <tr>\n",
       "      <th>2.0</th>\n",
       "    </tr>\n",
       "    <tr>\n",
       "      <th>2.5</th>\n",
       "    </tr>\n",
       "    <tr>\n",
       "      <th>3.0</th>\n",
       "    </tr>\n",
       "    <tr>\n",
       "      <th>4.0</th>\n",
       "    </tr>\n",
       "    <tr>\n",
       "      <th>5.0</th>\n",
       "    </tr>\n",
       "    <tr>\n",
       "      <th>6.0</th>\n",
       "    </tr>\n",
       "    <tr>\n",
       "      <th rowspan=\"9\" valign=\"top\">2</th>\n",
       "      <th>0.0</th>\n",
       "    </tr>\n",
       "    <tr>\n",
       "      <th>1.0</th>\n",
       "    </tr>\n",
       "    <tr>\n",
       "      <th>1.2</th>\n",
       "    </tr>\n",
       "    <tr>\n",
       "      <th>1.5</th>\n",
       "    </tr>\n",
       "    <tr>\n",
       "      <th>2.0</th>\n",
       "    </tr>\n",
       "    <tr>\n",
       "      <th>2.5</th>\n",
       "    </tr>\n",
       "    <tr>\n",
       "      <th>3.0</th>\n",
       "    </tr>\n",
       "    <tr>\n",
       "      <th>4.0</th>\n",
       "    </tr>\n",
       "    <tr>\n",
       "      <th>5.0</th>\n",
       "    </tr>\n",
       "  </tbody>\n",
       "</table>\n",
       "</div>"
      ],
      "text/plain": [
       "Empty DataFrame\n",
       "Columns: []\n",
       "Index: [(0, 0.0), (0, 1.0), (0, 1.5), (0, 2.0), (0, 2.5), (0, 3.0), (0, 4.0), (1, 0.0), (1, 1.0), (1, 1.5), (1, 2.0), (1, 2.5), (1, 3.0), (1, 4.0), (1, 5.0), (1, 6.0), (2, 0.0), (2, 1.0), (2, 1.2), (2, 1.5), (2, 2.0), (2, 2.5), (2, 3.0), (2, 4.0), (2, 5.0)]"
      ]
     },
     "execution_count": 94,
     "metadata": {},
     "output_type": "execute_result"
    }
   ],
   "source": [
    "geo_df[['no_rooms','clusters']].groupby(['clusters','no_rooms']).count()"
   ]
  },
  {
   "cell_type": "code",
   "execution_count": 95,
   "metadata": {},
   "outputs": [
    {
     "data": {
      "text/html": [
       "<div>\n",
       "<style scoped>\n",
       "    .dataframe tbody tr th:only-of-type {\n",
       "        vertical-align: middle;\n",
       "    }\n",
       "\n",
       "    .dataframe tbody tr th {\n",
       "        vertical-align: top;\n",
       "    }\n",
       "\n",
       "    .dataframe thead th {\n",
       "        text-align: right;\n",
       "    }\n",
       "</style>\n",
       "<table border=\"1\" class=\"dataframe\">\n",
       "  <thead>\n",
       "    <tr style=\"text-align: right;\">\n",
       "      <th></th>\n",
       "      <th></th>\n",
       "      <th>price</th>\n",
       "    </tr>\n",
       "    <tr>\n",
       "      <th>clusters</th>\n",
       "      <th>no_rooms</th>\n",
       "      <th></th>\n",
       "    </tr>\n",
       "  </thead>\n",
       "  <tbody>\n",
       "    <tr>\n",
       "      <th rowspan=\"7\" valign=\"top\">0</th>\n",
       "      <th>0.0</th>\n",
       "      <td>2832</td>\n",
       "    </tr>\n",
       "    <tr>\n",
       "      <th>1.0</th>\n",
       "      <td>3514</td>\n",
       "    </tr>\n",
       "    <tr>\n",
       "      <th>1.5</th>\n",
       "      <td>7</td>\n",
       "    </tr>\n",
       "    <tr>\n",
       "      <th>2.0</th>\n",
       "      <td>1198</td>\n",
       "    </tr>\n",
       "    <tr>\n",
       "      <th>2.5</th>\n",
       "      <td>1</td>\n",
       "    </tr>\n",
       "    <tr>\n",
       "      <th>3.0</th>\n",
       "      <td>200</td>\n",
       "    </tr>\n",
       "    <tr>\n",
       "      <th>4.0</th>\n",
       "      <td>5</td>\n",
       "    </tr>\n",
       "    <tr>\n",
       "      <th rowspan=\"9\" valign=\"top\">1</th>\n",
       "      <th>0.0</th>\n",
       "      <td>18</td>\n",
       "    </tr>\n",
       "    <tr>\n",
       "      <th>1.0</th>\n",
       "      <td>82</td>\n",
       "    </tr>\n",
       "    <tr>\n",
       "      <th>1.5</th>\n",
       "      <td>2</td>\n",
       "    </tr>\n",
       "    <tr>\n",
       "      <th>2.0</th>\n",
       "      <td>850</td>\n",
       "    </tr>\n",
       "    <tr>\n",
       "      <th>2.5</th>\n",
       "      <td>36</td>\n",
       "    </tr>\n",
       "    <tr>\n",
       "      <th>3.0</th>\n",
       "      <td>314</td>\n",
       "    </tr>\n",
       "    <tr>\n",
       "      <th>4.0</th>\n",
       "      <td>42</td>\n",
       "    </tr>\n",
       "    <tr>\n",
       "      <th>5.0</th>\n",
       "      <td>25</td>\n",
       "    </tr>\n",
       "    <tr>\n",
       "      <th>6.0</th>\n",
       "      <td>2</td>\n",
       "    </tr>\n",
       "    <tr>\n",
       "      <th rowspan=\"9\" valign=\"top\">2</th>\n",
       "      <th>0.0</th>\n",
       "      <td>179</td>\n",
       "    </tr>\n",
       "    <tr>\n",
       "      <th>1.0</th>\n",
       "      <td>1842</td>\n",
       "    </tr>\n",
       "    <tr>\n",
       "      <th>1.2</th>\n",
       "      <td>1</td>\n",
       "    </tr>\n",
       "    <tr>\n",
       "      <th>1.5</th>\n",
       "      <td>46</td>\n",
       "    </tr>\n",
       "    <tr>\n",
       "      <th>2.0</th>\n",
       "      <td>1769</td>\n",
       "    </tr>\n",
       "    <tr>\n",
       "      <th>2.5</th>\n",
       "      <td>8</td>\n",
       "    </tr>\n",
       "    <tr>\n",
       "      <th>3.0</th>\n",
       "      <td>577</td>\n",
       "    </tr>\n",
       "    <tr>\n",
       "      <th>4.0</th>\n",
       "      <td>56</td>\n",
       "    </tr>\n",
       "    <tr>\n",
       "      <th>5.0</th>\n",
       "      <td>2</td>\n",
       "    </tr>\n",
       "  </tbody>\n",
       "</table>\n",
       "</div>"
      ],
      "text/plain": [
       "                   price\n",
       "clusters no_rooms       \n",
       "0        0.0        2832\n",
       "         1.0        3514\n",
       "         1.5           7\n",
       "         2.0        1198\n",
       "         2.5           1\n",
       "         3.0         200\n",
       "         4.0           5\n",
       "1        0.0          18\n",
       "         1.0          82\n",
       "         1.5           2\n",
       "         2.0         850\n",
       "         2.5          36\n",
       "         3.0         314\n",
       "         4.0          42\n",
       "         5.0          25\n",
       "         6.0           2\n",
       "2        0.0         179\n",
       "         1.0        1842\n",
       "         1.2           1\n",
       "         1.5          46\n",
       "         2.0        1769\n",
       "         2.5           8\n",
       "         3.0         577\n",
       "         4.0          56\n",
       "         5.0           2"
      ]
     },
     "execution_count": 95,
     "metadata": {},
     "output_type": "execute_result"
    }
   ],
   "source": [
    "geo_df[['no_rooms','clusters','price']].groupby(['clusters','no_rooms']).count()"
   ]
  },
  {
   "cell_type": "code",
   "execution_count": null,
   "metadata": {},
   "outputs": [],
   "source": []
  }
 ],
 "metadata": {
  "kernelspec": {
   "display_name": "Python (myenv)",
   "language": "python",
   "name": "myenv"
  },
  "language_info": {
   "codemirror_mode": {
    "name": "ipython",
    "version": 3
   },
   "file_extension": ".py",
   "mimetype": "text/x-python",
   "name": "python",
   "nbconvert_exporter": "python",
   "pygments_lexer": "ipython3",
   "version": "3.6.8"
  }
 },
 "nbformat": 4,
 "nbformat_minor": 2
}
