{
 "cells": [
  {
   "cell_type": "markdown",
   "metadata": {},
   "source": [
    "# Topics\n",
    "1. Options for data cleaning:\n",
    "    \n",
    "    a. use top amenities as dummies\n",
    "    \n",
    "    b. remove amenities, transp, units, stories\n",
    "    \n",
    "    c. change year built to age\n",
    "    \n",
    "    d. defferent type of listings, prices varies a lot by leasing and purchasing\n",
    "\n",
    "\n",
    "2. get yelp data or inspection data\n",
    "    \n",
    "    a. business data: rating, price level, inspection grade\n",
    "    \n",
    "    \n",
    "    \n",
    "3. Merge data by geo-zones"
   ]
  },
  {
   "cell_type": "code",
   "execution_count": 1,
   "metadata": {},
   "outputs": [],
   "source": [
    "import pandas as pd\n",
    "import numpy as np"
   ]
  },
  {
   "cell_type": "code",
   "execution_count": 2,
   "metadata": {},
   "outputs": [],
   "source": [
    "bio = pd.read_csv(\"housing/building_bio.csv\")"
   ]
  },
  {
   "cell_type": "code",
   "execution_count": 3,
   "metadata": {},
   "outputs": [],
   "source": [
    "units = pd.read_csv(\"housing/units.csv\")"
   ]
  },
  {
   "cell_type": "code",
   "execution_count": 4,
   "metadata": {},
   "outputs": [],
   "source": [
    "building = pd.read_csv(\"housing/building.csv\")"
   ]
  },
  {
   "cell_type": "code",
   "execution_count": 5,
   "metadata": {},
   "outputs": [
    {
     "name": "stderr",
     "output_type": "stream",
     "text": [
      "/anaconda3/envs/ads/lib/python3.6/site-packages/IPython/core/interactiveshell.py:3049: DtypeWarning: Columns (7) have mixed types. Specify dtype option on import or set low_memory=False.\n",
      "  interactivity=interactivity, compiler=compiler, result=result)\n"
     ]
    }
   ],
   "source": [
    "inspection = pd.read_csv(\"clean_inspection.csv\")"
   ]
  },
  {
   "cell_type": "markdown",
   "metadata": {},
   "source": [
    "# Inspection Data"
   ]
  },
  {
   "cell_type": "code",
   "execution_count": 6,
   "metadata": {},
   "outputs": [
    {
     "data": {
      "text/html": [
       "<div>\n",
       "<style scoped>\n",
       "    .dataframe tbody tr th:only-of-type {\n",
       "        vertical-align: middle;\n",
       "    }\n",
       "\n",
       "    .dataframe tbody tr th {\n",
       "        vertical-align: top;\n",
       "    }\n",
       "\n",
       "    .dataframe thead th {\n",
       "        text-align: right;\n",
       "    }\n",
       "</style>\n",
       "<table border=\"1\" class=\"dataframe\">\n",
       "  <thead>\n",
       "    <tr style=\"text-align: right;\">\n",
       "      <th></th>\n",
       "      <th>Unnamed: 0</th>\n",
       "      <th>CAMIS</th>\n",
       "      <th>DBA</th>\n",
       "      <th>BORO</th>\n",
       "      <th>BUILDING</th>\n",
       "      <th>STREET</th>\n",
       "      <th>ZIPCODE</th>\n",
       "      <th>PHONE</th>\n",
       "      <th>CUISINE DESCRIPTION</th>\n",
       "      <th>INSPECTION DATE</th>\n",
       "      <th>ACTION</th>\n",
       "      <th>VIOLATION CODE</th>\n",
       "      <th>VIOLATION DESCRIPTION</th>\n",
       "      <th>CRITICAL FLAG</th>\n",
       "      <th>SCORE</th>\n",
       "      <th>GRADE</th>\n",
       "      <th>GRADE DATE</th>\n",
       "      <th>RECORD DATE</th>\n",
       "      <th>INSPECTION TYPE</th>\n",
       "    </tr>\n",
       "  </thead>\n",
       "  <tbody>\n",
       "    <tr>\n",
       "      <th>0</th>\n",
       "      <td>0</td>\n",
       "      <td>30075445</td>\n",
       "      <td>MORRIS PARK BAKE SHOP</td>\n",
       "      <td>BRONX</td>\n",
       "      <td>1007</td>\n",
       "      <td>MORRIS PARK AVE</td>\n",
       "      <td>10462.0</td>\n",
       "      <td>7188924968</td>\n",
       "      <td>Bakery</td>\n",
       "      <td>05/11/2018</td>\n",
       "      <td>Violations were cited in the following area(s).</td>\n",
       "      <td>08C</td>\n",
       "      <td>Pesticide use not in accordance with label or ...</td>\n",
       "      <td>Not Critical</td>\n",
       "      <td>5.0</td>\n",
       "      <td>A</td>\n",
       "      <td>05/11/2018</td>\n",
       "      <td>04/23/2019</td>\n",
       "      <td>Cycle Inspection / Initial Inspection</td>\n",
       "    </tr>\n",
       "    <tr>\n",
       "      <th>1</th>\n",
       "      <td>1</td>\n",
       "      <td>30075445</td>\n",
       "      <td>MORRIS PARK BAKE SHOP</td>\n",
       "      <td>BRONX</td>\n",
       "      <td>1007</td>\n",
       "      <td>MORRIS PARK AVE</td>\n",
       "      <td>10462.0</td>\n",
       "      <td>7188924968</td>\n",
       "      <td>Bakery</td>\n",
       "      <td>05/11/2018</td>\n",
       "      <td>Violations were cited in the following area(s).</td>\n",
       "      <td>10F</td>\n",
       "      <td>Non-food contact surface improperly constructe...</td>\n",
       "      <td>Not Critical</td>\n",
       "      <td>5.0</td>\n",
       "      <td>A</td>\n",
       "      <td>05/11/2018</td>\n",
       "      <td>04/23/2019</td>\n",
       "      <td>Cycle Inspection / Initial Inspection</td>\n",
       "    </tr>\n",
       "    <tr>\n",
       "      <th>2</th>\n",
       "      <td>2</td>\n",
       "      <td>30075445</td>\n",
       "      <td>MORRIS PARK BAKE SHOP</td>\n",
       "      <td>BRONX</td>\n",
       "      <td>1007</td>\n",
       "      <td>MORRIS PARK AVE</td>\n",
       "      <td>10462.0</td>\n",
       "      <td>7188924968</td>\n",
       "      <td>Bakery</td>\n",
       "      <td>05/18/2017</td>\n",
       "      <td>Violations were cited in the following area(s).</td>\n",
       "      <td>06D</td>\n",
       "      <td>Food contact surface not properly washed, rins...</td>\n",
       "      <td>Critical</td>\n",
       "      <td>7.0</td>\n",
       "      <td>A</td>\n",
       "      <td>05/18/2017</td>\n",
       "      <td>04/23/2019</td>\n",
       "      <td>Cycle Inspection / Initial Inspection</td>\n",
       "    </tr>\n",
       "    <tr>\n",
       "      <th>3</th>\n",
       "      <td>3</td>\n",
       "      <td>30075445</td>\n",
       "      <td>MORRIS PARK BAKE SHOP</td>\n",
       "      <td>BRONX</td>\n",
       "      <td>1007</td>\n",
       "      <td>MORRIS PARK AVE</td>\n",
       "      <td>10462.0</td>\n",
       "      <td>7188924968</td>\n",
       "      <td>Bakery</td>\n",
       "      <td>05/18/2017</td>\n",
       "      <td>Violations were cited in the following area(s).</td>\n",
       "      <td>10F</td>\n",
       "      <td>Non-food contact surface improperly constructe...</td>\n",
       "      <td>Not Critical</td>\n",
       "      <td>7.0</td>\n",
       "      <td>A</td>\n",
       "      <td>05/18/2017</td>\n",
       "      <td>04/23/2019</td>\n",
       "      <td>Cycle Inspection / Initial Inspection</td>\n",
       "    </tr>\n",
       "    <tr>\n",
       "      <th>4</th>\n",
       "      <td>4</td>\n",
       "      <td>30075445</td>\n",
       "      <td>MORRIS PARK BAKE SHOP</td>\n",
       "      <td>BRONX</td>\n",
       "      <td>1007</td>\n",
       "      <td>MORRIS PARK AVE</td>\n",
       "      <td>10462.0</td>\n",
       "      <td>7188924968</td>\n",
       "      <td>Bakery</td>\n",
       "      <td>02/18/2016</td>\n",
       "      <td>Violations were cited in the following area(s).</td>\n",
       "      <td>04L</td>\n",
       "      <td>Evidence of mice or live mice present in facil...</td>\n",
       "      <td>Critical</td>\n",
       "      <td>10.0</td>\n",
       "      <td>A</td>\n",
       "      <td>02/18/2016</td>\n",
       "      <td>04/23/2019</td>\n",
       "      <td>Cycle Inspection / Initial Inspection</td>\n",
       "    </tr>\n",
       "  </tbody>\n",
       "</table>\n",
       "</div>"
      ],
      "text/plain": [
       "   Unnamed: 0     CAMIS                    DBA   BORO BUILDING  \\\n",
       "0           0  30075445  MORRIS PARK BAKE SHOP  BRONX     1007   \n",
       "1           1  30075445  MORRIS PARK BAKE SHOP  BRONX     1007   \n",
       "2           2  30075445  MORRIS PARK BAKE SHOP  BRONX     1007   \n",
       "3           3  30075445  MORRIS PARK BAKE SHOP  BRONX     1007   \n",
       "4           4  30075445  MORRIS PARK BAKE SHOP  BRONX     1007   \n",
       "\n",
       "            STREET  ZIPCODE       PHONE CUISINE DESCRIPTION INSPECTION DATE  \\\n",
       "0  MORRIS PARK AVE  10462.0  7188924968              Bakery      05/11/2018   \n",
       "1  MORRIS PARK AVE  10462.0  7188924968              Bakery      05/11/2018   \n",
       "2  MORRIS PARK AVE  10462.0  7188924968              Bakery      05/18/2017   \n",
       "3  MORRIS PARK AVE  10462.0  7188924968              Bakery      05/18/2017   \n",
       "4  MORRIS PARK AVE  10462.0  7188924968              Bakery      02/18/2016   \n",
       "\n",
       "                                            ACTION VIOLATION CODE  \\\n",
       "0  Violations were cited in the following area(s).            08C   \n",
       "1  Violations were cited in the following area(s).            10F   \n",
       "2  Violations were cited in the following area(s).            06D   \n",
       "3  Violations were cited in the following area(s).            10F   \n",
       "4  Violations were cited in the following area(s).            04L   \n",
       "\n",
       "                               VIOLATION DESCRIPTION CRITICAL FLAG  SCORE  \\\n",
       "0  Pesticide use not in accordance with label or ...  Not Critical    5.0   \n",
       "1  Non-food contact surface improperly constructe...  Not Critical    5.0   \n",
       "2  Food contact surface not properly washed, rins...      Critical    7.0   \n",
       "3  Non-food contact surface improperly constructe...  Not Critical    7.0   \n",
       "4  Evidence of mice or live mice present in facil...      Critical   10.0   \n",
       "\n",
       "  GRADE  GRADE DATE RECORD DATE                        INSPECTION TYPE  \n",
       "0     A  05/11/2018  04/23/2019  Cycle Inspection / Initial Inspection  \n",
       "1     A  05/11/2018  04/23/2019  Cycle Inspection / Initial Inspection  \n",
       "2     A  05/18/2017  04/23/2019  Cycle Inspection / Initial Inspection  \n",
       "3     A  05/18/2017  04/23/2019  Cycle Inspection / Initial Inspection  \n",
       "4     A  02/18/2016  04/23/2019  Cycle Inspection / Initial Inspection  "
      ]
     },
     "execution_count": 6,
     "metadata": {},
     "output_type": "execute_result"
    }
   ],
   "source": [
    "inspection.head()"
   ]
  },
  {
   "cell_type": "code",
   "execution_count": 7,
   "metadata": {},
   "outputs": [],
   "source": [
    "# only need the zipcoed for merge and the score for the model\n",
    "inspection = inspection[['ZIPCODE', 'SCORE']].copy()\n",
    "inspection = inspection.dropna()"
   ]
  },
  {
   "cell_type": "code",
   "execution_count": 8,
   "metadata": {},
   "outputs": [
    {
     "data": {
      "text/plain": [
       "count    355435.000000\n",
       "mean         19.854558\n",
       "std          14.160249\n",
       "min          -1.000000\n",
       "25%          11.000000\n",
       "50%          15.000000\n",
       "75%          25.000000\n",
       "max         156.000000\n",
       "Name: SCORE, dtype: float64"
      ]
     },
     "execution_count": 8,
     "metadata": {},
     "output_type": "execute_result"
    }
   ],
   "source": [
    "inspection['SCORE'].describe()"
   ]
  },
  {
   "cell_type": "code",
   "execution_count": 9,
   "metadata": {},
   "outputs": [],
   "source": [
    "# map the score to non-negative floats\n",
    "inspection['SCORE'] = inspection['SCORE'].map(lambda x: 0 if x==-1 else float(x))"
   ]
  },
  {
   "cell_type": "code",
   "execution_count": 10,
   "metadata": {},
   "outputs": [],
   "source": [
    "# group by zipcode and take the average of the score\n",
    "inspection = inspection.groupby('ZIPCODE', as_index=False).mean()"
   ]
  },
  {
   "cell_type": "code",
   "execution_count": 11,
   "metadata": {},
   "outputs": [
    {
     "data": {
      "text/html": [
       "<div>\n",
       "<style scoped>\n",
       "    .dataframe tbody tr th:only-of-type {\n",
       "        vertical-align: middle;\n",
       "    }\n",
       "\n",
       "    .dataframe tbody tr th {\n",
       "        vertical-align: top;\n",
       "    }\n",
       "\n",
       "    .dataframe thead th {\n",
       "        text-align: right;\n",
       "    }\n",
       "</style>\n",
       "<table border=\"1\" class=\"dataframe\">\n",
       "  <thead>\n",
       "    <tr style=\"text-align: right;\">\n",
       "      <th></th>\n",
       "      <th>ZIPCODE</th>\n",
       "      <th>SCORE</th>\n",
       "    </tr>\n",
       "  </thead>\n",
       "  <tbody>\n",
       "    <tr>\n",
       "      <th>0</th>\n",
       "      <td>10000.0</td>\n",
       "      <td>16.666667</td>\n",
       "    </tr>\n",
       "    <tr>\n",
       "      <th>1</th>\n",
       "      <td>10001.0</td>\n",
       "      <td>19.504966</td>\n",
       "    </tr>\n",
       "    <tr>\n",
       "      <th>2</th>\n",
       "      <td>10002.0</td>\n",
       "      <td>22.023928</td>\n",
       "    </tr>\n",
       "    <tr>\n",
       "      <th>3</th>\n",
       "      <td>10003.0</td>\n",
       "      <td>19.883718</td>\n",
       "    </tr>\n",
       "    <tr>\n",
       "      <th>4</th>\n",
       "      <td>10004.0</td>\n",
       "      <td>17.659234</td>\n",
       "    </tr>\n",
       "  </tbody>\n",
       "</table>\n",
       "</div>"
      ],
      "text/plain": [
       "   ZIPCODE      SCORE\n",
       "0  10000.0  16.666667\n",
       "1  10001.0  19.504966\n",
       "2  10002.0  22.023928\n",
       "3  10003.0  19.883718\n",
       "4  10004.0  17.659234"
      ]
     },
     "execution_count": 11,
     "metadata": {},
     "output_type": "execute_result"
    }
   ],
   "source": [
    "inspection.head()"
   ]
  },
  {
   "cell_type": "markdown",
   "metadata": {},
   "source": [
    "# Unit Data"
   ]
  },
  {
   "cell_type": "code",
   "execution_count": 12,
   "metadata": {},
   "outputs": [
    {
     "data": {
      "text/html": [
       "<div>\n",
       "<style scoped>\n",
       "    .dataframe tbody tr th:only-of-type {\n",
       "        vertical-align: middle;\n",
       "    }\n",
       "\n",
       "    .dataframe tbody tr th {\n",
       "        vertical-align: top;\n",
       "    }\n",
       "\n",
       "    .dataframe thead th {\n",
       "        text-align: right;\n",
       "    }\n",
       "</style>\n",
       "<table border=\"1\" class=\"dataframe\">\n",
       "  <thead>\n",
       "    <tr style=\"text-align: right;\">\n",
       "      <th></th>\n",
       "      <th>unit</th>\n",
       "      <th>status</th>\n",
       "      <th>no_rooms</th>\n",
       "      <th>no_bath</th>\n",
       "      <th>area(ftsq)</th>\n",
       "      <th>id</th>\n",
       "    </tr>\n",
       "  </thead>\n",
       "  <tbody>\n",
       "    <tr>\n",
       "      <th>0</th>\n",
       "      <td>#3</td>\n",
       "      <td>Off-Market on 10/12/2010 at $1,650</td>\n",
       "      <td>studio</td>\n",
       "      <td>1 bath</td>\n",
       "      <td>NaN</td>\n",
       "      <td>73971</td>\n",
       "    </tr>\n",
       "    <tr>\n",
       "      <th>1</th>\n",
       "      <td>#4</td>\n",
       "      <td>Off-Market on 08/22/2018 at $10,250</td>\n",
       "      <td>2 beds</td>\n",
       "      <td>3 baths</td>\n",
       "      <td>2,000 ftsq</td>\n",
       "      <td>73971</td>\n",
       "    </tr>\n",
       "    <tr>\n",
       "      <th>2</th>\n",
       "      <td>#1</td>\n",
       "      <td>Off-Market on 10/18/2018 at $5,995</td>\n",
       "      <td>2 beds</td>\n",
       "      <td>1 bath</td>\n",
       "      <td>1,100 ftsq</td>\n",
       "      <td>786613</td>\n",
       "    </tr>\n",
       "    <tr>\n",
       "      <th>3</th>\n",
       "      <td>#2</td>\n",
       "      <td>Listed for rent at $6,500</td>\n",
       "      <td>2 beds</td>\n",
       "      <td>1 bath</td>\n",
       "      <td>1,200 ftsq</td>\n",
       "      <td>786613</td>\n",
       "    </tr>\n",
       "    <tr>\n",
       "      <th>4</th>\n",
       "      <td>#3</td>\n",
       "      <td>Off-Market on 02/15/2011 at $5,400</td>\n",
       "      <td>2 beds</td>\n",
       "      <td>1 bath</td>\n",
       "      <td>1,200 ftsq</td>\n",
       "      <td>786613</td>\n",
       "    </tr>\n",
       "  </tbody>\n",
       "</table>\n",
       "</div>"
      ],
      "text/plain": [
       "  unit                               status no_rooms  no_bath  area(ftsq)  \\\n",
       "0   #3   Off-Market on 10/12/2010 at $1,650   studio   1 bath         NaN   \n",
       "1   #4  Off-Market on 08/22/2018 at $10,250   2 beds  3 baths  2,000 ftsq   \n",
       "2   #1   Off-Market on 10/18/2018 at $5,995   2 beds   1 bath  1,100 ftsq   \n",
       "3   #2            Listed for rent at $6,500   2 beds   1 bath  1,200 ftsq   \n",
       "4   #3   Off-Market on 02/15/2011 at $5,400   2 beds   1 bath  1,200 ftsq   \n",
       "\n",
       "       id  \n",
       "0   73971  \n",
       "1   73971  \n",
       "2  786613  \n",
       "3  786613  \n",
       "4  786613  "
      ]
     },
     "execution_count": 12,
     "metadata": {},
     "output_type": "execute_result"
    }
   ],
   "source": [
    "units.head()"
   ]
  },
  {
   "cell_type": "code",
   "execution_count": 13,
   "metadata": {},
   "outputs": [
    {
     "data": {
      "text/plain": [
       "(24046, 6)"
      ]
     },
     "execution_count": 13,
     "metadata": {},
     "output_type": "execute_result"
    }
   ],
   "source": [
    "units.shape"
   ]
  },
  {
   "cell_type": "code",
   "execution_count": 14,
   "metadata": {},
   "outputs": [],
   "source": [
    "temp = units.copy()"
   ]
  },
  {
   "cell_type": "code",
   "execution_count": 15,
   "metadata": {},
   "outputs": [],
   "source": [
    "# remove the off-market units and convert the price to numeric values\n",
    "temp['status'] = temp['status'].map(lambda x: int((x.split(\"$\")[1]).replace(\",\",\"\")) if x!= \"Off-Market\" else None)\n",
    "temp['status'] = temp['status'].replace(0, None)\n",
    "temp = temp.dropna()"
   ]
  },
  {
   "cell_type": "code",
   "execution_count": 16,
   "metadata": {},
   "outputs": [],
   "source": [
    "# convert the area to numeric values\n",
    "temp['area(ftsq)'] = temp['area(ftsq)'].map(lambda  x: int((x.split(\" \")[0]).replace(\",\",\"\")) if x!=None else None)\n",
    "temp = temp.dropna()"
   ]
  },
  {
   "cell_type": "code",
   "execution_count": 17,
   "metadata": {},
   "outputs": [
    {
     "data": {
      "text/plain": [
       "count    1.255700e+04\n",
       "mean     1.011494e+06\n",
       "std      4.032970e+06\n",
       "min      1.000000e+00\n",
       "25%      3.400000e+03\n",
       "50%      5.225000e+03\n",
       "75%      8.690000e+05\n",
       "max      7.312349e+07\n",
       "Name: status, dtype: float64"
      ]
     },
     "execution_count": 17,
     "metadata": {},
     "output_type": "execute_result"
    }
   ],
   "source": [
    "temp['status'].describe()"
   ]
  },
  {
   "cell_type": "code",
   "execution_count": 18,
   "metadata": {},
   "outputs": [
    {
     "data": {
      "text/plain": [
       "count    12557.000000\n",
       "mean      1171.991797\n",
       "std       1219.696323\n",
       "min          1.000000\n",
       "25%        660.000000\n",
       "50%        866.000000\n",
       "75%       1350.000000\n",
       "max      94361.000000\n",
       "Name: area(ftsq), dtype: float64"
      ]
     },
     "execution_count": 18,
     "metadata": {},
     "output_type": "execute_result"
    }
   ],
   "source": [
    "temp['area(ftsq)'].describe()"
   ]
  },
  {
   "cell_type": "code",
   "execution_count": 19,
   "metadata": {},
   "outputs": [
    {
     "data": {
      "text/plain": [
       "(12557, 6)"
      ]
     },
     "execution_count": 19,
     "metadata": {},
     "output_type": "execute_result"
    }
   ],
   "source": [
    "temp.shape"
   ]
  },
  {
   "cell_type": "code",
   "execution_count": 20,
   "metadata": {},
   "outputs": [
    {
     "data": {
      "text/plain": [
       "465"
      ]
     },
     "execution_count": 20,
     "metadata": {},
     "output_type": "execute_result"
    }
   ],
   "source": [
    "len(temp.id.unique())"
   ]
  },
  {
   "cell_type": "code",
   "execution_count": 21,
   "metadata": {},
   "outputs": [
    {
     "data": {
      "text/plain": [
       "array(['3 baths', '1 bath', '4 baths', '5 baths', '7 baths', '2.5 baths',\n",
       "       '2 baths', '3.5 baths', '1.5 baths', '4.5 baths', '5+ baths',\n",
       "       '6+ baths', '6 baths', '7.5 baths', '7+ baths', '6.5 baths',\n",
       "       '8 baths', '2+ baths', '18 baths', '4+ baths', '0.5 baths',\n",
       "       '8+ baths', '5.5 baths', '12 baths', '15+ baths', '10 baths',\n",
       "       '9 baths', '3+ baths', '1+ bath'], dtype=object)"
      ]
     },
     "execution_count": 21,
     "metadata": {},
     "output_type": "execute_result"
    }
   ],
   "source": [
    "temp['no_bath'].unique()"
   ]
  },
  {
   "cell_type": "code",
   "execution_count": 22,
   "metadata": {},
   "outputs": [
    {
     "data": {
      "text/plain": [
       "array(['2 beds', '5 beds', '1 bed', '6 beds', 'studio', '3 beds',\n",
       "       '4 beds', '2.5 beds', '1.2 beds', '1.5 beds', '7 beds', '50 beds',\n",
       "       '3.5 beds', '8 beds', '18 beds', '20 beds', '13 beds', '4.5 beds',\n",
       "       '10 beds'], dtype=object)"
      ]
     },
     "execution_count": 22,
     "metadata": {},
     "output_type": "execute_result"
    }
   ],
   "source": [
    "temp['no_rooms'].unique()"
   ]
  },
  {
   "cell_type": "code",
   "execution_count": 23,
   "metadata": {},
   "outputs": [],
   "source": [
    "def toNum(x):\n",
    "    x = x.split(\" \")[0]\n",
    "    try:\n",
    "        return float(x)\n",
    "    except ValueError:\n",
    "        #print(x)\n",
    "        return float(x[0])"
   ]
  },
  {
   "cell_type": "code",
   "execution_count": 24,
   "metadata": {},
   "outputs": [],
   "source": [
    "# convert number of bedrooms and number of bathrooms to numeric\n",
    "temp['no_rooms'] = temp['no_rooms'].map(lambda x: toNum(x) if x!='studio' else 0)\n",
    "temp['no_bath'] = temp['no_bath'].map(lambda x: toNum(x))"
   ]
  },
  {
   "cell_type": "code",
   "execution_count": 25,
   "metadata": {},
   "outputs": [],
   "source": [
    "temp = temp.dropna()"
   ]
  },
  {
   "cell_type": "markdown",
   "metadata": {},
   "source": [
    "## Plot the labels, could be normalized to guassian"
   ]
  },
  {
   "cell_type": "code",
   "execution_count": 26,
   "metadata": {},
   "outputs": [
    {
     "data": {
      "image/png": "[encoded data removed]",
      "text/plain": [
       "<Figure size 432x288 with 1 Axes>"
      ]
     },
     "metadata": {
      "needs_background": "light"
     },
     "output_type": "display_data"
    }
   ],
   "source": [
    "import matplotlib.pyplot as plt\n",
    "%matplotlib inline\n",
    "plt.hist(temp[\"status\"], bins=10)\n",
    "plt.show()"
   ]
  },
  {
   "cell_type": "code",
   "execution_count": 27,
   "metadata": {},
   "outputs": [
    {
     "name": "stderr",
     "output_type": "stream",
     "text": [
      "/anaconda3/envs/ads/lib/python3.6/site-packages/ipykernel_launcher.py:1: RuntimeWarning: invalid value encountered in log\n",
      "  \"\"\"Entry point for launching an IPython kernel.\n",
      "/anaconda3/envs/ads/lib/python3.6/site-packages/numpy/lib/histograms.py:754: RuntimeWarning: invalid value encountered in greater_equal\n",
      "  keep = (tmp_a >= first_edge)\n",
      "/anaconda3/envs/ads/lib/python3.6/site-packages/numpy/lib/histograms.py:755: RuntimeWarning: invalid value encountered in less_equal\n",
      "  keep &= (tmp_a <= last_edge)\n"
     ]
    },
    {
     "data": {
      "image/png": "[encoded data removed]",
      "text/plain": [
       "<Figure size 432x288 with 1 Axes>"
      ]
     },
     "metadata": {
      "needs_background": "light"
     },
     "output_type": "display_data"
    }
   ],
   "source": [
    "plt.hist(np.log((temp[\"status\"]-temp[\"status\"].mean())/temp['status'].std()), bins=10)\n",
    "plt.show()"
   ]
  },
  {
   "cell_type": "code",
   "execution_count": 28,
   "metadata": {},
   "outputs": [],
   "source": [
    "units = temp.copy()"
   ]
  },
  {
   "cell_type": "markdown",
   "metadata": {},
   "source": [
    "# Building data"
   ]
  },
  {
   "cell_type": "code",
   "execution_count": 29,
   "metadata": {},
   "outputs": [
    {
     "data": {
      "text/html": [
       "<div>\n",
       "<style scoped>\n",
       "    .dataframe tbody tr th:only-of-type {\n",
       "        vertical-align: middle;\n",
       "    }\n",
       "\n",
       "    .dataframe tbody tr th {\n",
       "        vertical-align: top;\n",
       "    }\n",
       "\n",
       "    .dataframe thead th {\n",
       "        text-align: right;\n",
       "    }\n",
       "</style>\n",
       "<table border=\"1\" class=\"dataframe\">\n",
       "  <thead>\n",
       "    <tr style=\"text-align: right;\">\n",
       "      <th></th>\n",
       "      <th>Unnamed: 0</th>\n",
       "      <th>id</th>\n",
       "      <th>bldname</th>\n",
       "      <th>address</th>\n",
       "      <th>type</th>\n",
       "      <th>top_amenity</th>\n",
       "      <th>amenities</th>\n",
       "      <th>transp1</th>\n",
       "      <th>transp2</th>\n",
       "      <th>transp3</th>\n",
       "      <th>transp4</th>\n",
       "      <th>transp5</th>\n",
       "      <th>units</th>\n",
       "      <th>stories</th>\n",
       "      <th>year</th>\n",
       "    </tr>\n",
       "  </thead>\n",
       "  <tbody>\n",
       "    <tr>\n",
       "      <th>0</th>\n",
       "      <td>0</td>\n",
       "      <td>70863</td>\n",
       "      <td>Building: 226 West Broadway</td>\n",
       "      <td>226 West Broadway, New York, NY, 10013</td>\n",
       "      <td>Rental Building</td>\n",
       "      <td>NaN</td>\n",
       "      <td>['NYC Storm Zone 2']</td>\n",
       "      <td>1at Franklin St  under 500 feet</td>\n",
       "      <td>ACEat Canal St  0.11 miles</td>\n",
       "      <td>1at Canal St  0.22 miles</td>\n",
       "      <td>JNQRZ6Wat Canal St  0.23 miles</td>\n",
       "      <td>ACE123at Chambers St  0.41 miles</td>\n",
       "      <td>1 unit</td>\n",
       "      <td>4 stories</td>\n",
       "      <td>Built in 1915</td>\n",
       "    </tr>\n",
       "    <tr>\n",
       "      <th>1</th>\n",
       "      <td>1</td>\n",
       "      <td>70863</td>\n",
       "      <td>Building: 226 West Broadway</td>\n",
       "      <td>226 West Broadway, New York, NY, 10013</td>\n",
       "      <td>Rental Building</td>\n",
       "      <td>NaN</td>\n",
       "      <td>['NYC Storm Zone 2']</td>\n",
       "      <td>1at Franklin St  under 500 feet</td>\n",
       "      <td>ACEat Canal St  0.11 miles</td>\n",
       "      <td>1at Canal St  0.22 miles</td>\n",
       "      <td>JNQRZ6Wat Canal St  0.23 miles</td>\n",
       "      <td>ACE123at Chambers St  0.41 miles</td>\n",
       "      <td>1 unit</td>\n",
       "      <td>4 stories</td>\n",
       "      <td>Built in 1915</td>\n",
       "    </tr>\n",
       "    <tr>\n",
       "      <th>2</th>\n",
       "      <td>2</td>\n",
       "      <td>70872</td>\n",
       "      <td>Building: 428 Greenwich Street</td>\n",
       "      <td>428 Greenwich Street, New York, NY, 10013</td>\n",
       "      <td>Mixed-Use Building</td>\n",
       "      <td>NaN</td>\n",
       "      <td>['NYC Storm Zone 1']</td>\n",
       "      <td>1at Canal St  0.2 miles</td>\n",
       "      <td>ACEat Canal St  0.26 miles</td>\n",
       "      <td>1at Franklin St  0.29 miles</td>\n",
       "      <td>CEat Spring St  0.39 miles</td>\n",
       "      <td>JNQRZ6Wat Canal St  0.45 miles</td>\n",
       "      <td>2 units</td>\n",
       "      <td>5 stories</td>\n",
       "      <td>Built in 1915</td>\n",
       "    </tr>\n",
       "    <tr>\n",
       "      <th>3</th>\n",
       "      <td>3</td>\n",
       "      <td>70962</td>\n",
       "      <td>Building: 154 Stanton Street</td>\n",
       "      <td>154 Stanton Street, New York, NY, 10002</td>\n",
       "      <td>Co-op</td>\n",
       "      <td>NaN</td>\n",
       "      <td>['Pied-a-Terre Allowed', 'Sublets Allowed', 'N...</td>\n",
       "      <td>FJMZat Delancey St-Essex St  0.19 miles</td>\n",
       "      <td>Fat 2nd Av  0.25 miles</td>\n",
       "      <td>JZat Bowery  0.45 miles</td>\n",
       "      <td>BDat Grand St  0.47 miles</td>\n",
       "      <td>Fat East Broadway  0.5 miles</td>\n",
       "      <td>1 unit</td>\n",
       "      <td>2 stories</td>\n",
       "      <td>Built in 1920</td>\n",
       "    </tr>\n",
       "    <tr>\n",
       "      <th>4</th>\n",
       "      <td>4</td>\n",
       "      <td>70962</td>\n",
       "      <td>Building: 154 Stanton Street</td>\n",
       "      <td>154 Stanton Street, New York, NY, 10002</td>\n",
       "      <td>Co-op</td>\n",
       "      <td>NaN</td>\n",
       "      <td>['Pied-a-Terre Allowed', 'Sublets Allowed', 'N...</td>\n",
       "      <td>FJMZat Delancey St-Essex St  0.19 miles</td>\n",
       "      <td>Fat 2nd Av  0.25 miles</td>\n",
       "      <td>JZat Bowery  0.45 miles</td>\n",
       "      <td>BDat Grand St  0.47 miles</td>\n",
       "      <td>Fat East Broadway  0.5 miles</td>\n",
       "      <td>1 unit</td>\n",
       "      <td>2 stories</td>\n",
       "      <td>Built in 1920</td>\n",
       "    </tr>\n",
       "  </tbody>\n",
       "</table>\n",
       "</div>"
      ],
      "text/plain": [
       "   Unnamed: 0     id                         bldname  \\\n",
       "0           0  70863     Building: 226 West Broadway   \n",
       "1           1  70863     Building: 226 West Broadway   \n",
       "2           2  70872  Building: 428 Greenwich Street   \n",
       "3           3  70962    Building: 154 Stanton Street   \n",
       "4           4  70962    Building: 154 Stanton Street   \n",
       "\n",
       "                                     address                type top_amenity  \\\n",
       "0     226 West Broadway, New York, NY, 10013     Rental Building         NaN   \n",
       "1     226 West Broadway, New York, NY, 10013     Rental Building         NaN   \n",
       "2  428 Greenwich Street, New York, NY, 10013  Mixed-Use Building         NaN   \n",
       "3    154 Stanton Street, New York, NY, 10002               Co-op         NaN   \n",
       "4    154 Stanton Street, New York, NY, 10002               Co-op         NaN   \n",
       "\n",
       "                                           amenities  \\\n",
       "0                               ['NYC Storm Zone 2']   \n",
       "1                               ['NYC Storm Zone 2']   \n",
       "2                               ['NYC Storm Zone 1']   \n",
       "3  ['Pied-a-Terre Allowed', 'Sublets Allowed', 'N...   \n",
       "4  ['Pied-a-Terre Allowed', 'Sublets Allowed', 'N...   \n",
       "\n",
       "                                   transp1                     transp2  \\\n",
       "0          1at Franklin St  under 500 feet  ACEat Canal St  0.11 miles   \n",
       "1          1at Franklin St  under 500 feet  ACEat Canal St  0.11 miles   \n",
       "2                  1at Canal St  0.2 miles  ACEat Canal St  0.26 miles   \n",
       "3  FJMZat Delancey St-Essex St  0.19 miles      Fat 2nd Av  0.25 miles   \n",
       "4  FJMZat Delancey St-Essex St  0.19 miles      Fat 2nd Av  0.25 miles   \n",
       "\n",
       "                       transp3                         transp4  \\\n",
       "0     1at Canal St  0.22 miles  JNQRZ6Wat Canal St  0.23 miles   \n",
       "1     1at Canal St  0.22 miles  JNQRZ6Wat Canal St  0.23 miles   \n",
       "2  1at Franklin St  0.29 miles      CEat Spring St  0.39 miles   \n",
       "3      JZat Bowery  0.45 miles       BDat Grand St  0.47 miles   \n",
       "4      JZat Bowery  0.45 miles       BDat Grand St  0.47 miles   \n",
       "\n",
       "                            transp5    units    stories           year  \n",
       "0  ACE123at Chambers St  0.41 miles   1 unit  4 stories  Built in 1915  \n",
       "1  ACE123at Chambers St  0.41 miles   1 unit  4 stories  Built in 1915  \n",
       "2    JNQRZ6Wat Canal St  0.45 miles  2 units  5 stories  Built in 1915  \n",
       "3      Fat East Broadway  0.5 miles   1 unit  2 stories  Built in 1920  \n",
       "4      Fat East Broadway  0.5 miles   1 unit  2 stories  Built in 1920  "
      ]
     },
     "execution_count": 29,
     "metadata": {},
     "output_type": "execute_result"
    }
   ],
   "source": [
    "building.head()"
   ]
  },
  {
   "cell_type": "code",
   "execution_count": 30,
   "metadata": {},
   "outputs": [
    {
     "data": {
      "text/plain": [
       "(1000, 15)"
      ]
     },
     "execution_count": 30,
     "metadata": {},
     "output_type": "execute_result"
    }
   ],
   "source": [
    "building.shape"
   ]
  },
  {
   "cell_type": "code",
   "execution_count": 31,
   "metadata": {},
   "outputs": [],
   "source": [
    "# take the columns needed and convert to numeric values\n",
    "temp = building[['id', 'address', 'type', 'top_amenity', 'units', 'stories', 'year']].copy()\n",
    "temp = temp.dropna()\n",
    "temp[\"zip\"] = temp['address'].map(lambda x: float(x.split(',')[3]))\n",
    "temp[\"age\"] = 2019 - temp[\"year\"].map(lambda x: int(x.split(' ')[2]))\n",
    "temp[['units', 'stories']] = temp[['units', 'stories']].applymap(lambda x: int(x.split(' ')[0]))"
   ]
  },
  {
   "cell_type": "code",
   "execution_count": 32,
   "metadata": {},
   "outputs": [],
   "source": [
    "# create dummy variables to apartment type\n",
    "dummies = pd.get_dummies(temp['type'])\n",
    "temp = pd.concat([temp, dummies], axis=1)"
   ]
  },
  {
   "cell_type": "code",
   "execution_count": 33,
   "metadata": {},
   "outputs": [
    {
     "name": "stdout",
     "output_type": "stream",
     "text": [
      "{'Doorman', 'Full-time Doorman', 'Elevator', 'Part-time Doorman', 'Cats and Dogs Allowed', 'Cats Only - No Dogs', 'Pets Allowed'}\n"
     ]
    }
   ],
   "source": [
    "# create dummy variables for each top amenity type\n",
    "temp[\"top_amenity\"] = temp[\"top_amenity\"].astype(str)\n",
    "ls = temp[\"top_amenity\"].unique()\n",
    "ss = set()\n",
    "for s in ls:\n",
    "    ls2 = s.replace(\"\\'\",\"\").replace(\"[\",\"\").replace(\"]\",\"\").split(',')\n",
    "    for c in ls2:\n",
    "        if c[0] == ' ': c=c[1:]\n",
    "        ss.add(c)\n",
    "print(ss)\n",
    "for s in ss:\n",
    "    temp[s] = temp[\"top_amenity\"].str.contains(s).astype(int)"
   ]
  },
  {
   "cell_type": "code",
   "execution_count": 34,
   "metadata": {},
   "outputs": [],
   "source": [
    "temp = temp.drop(['address', 'top_amenity', 'type', 'year'], axis=1)"
   ]
  },
  {
   "cell_type": "code",
   "execution_count": 35,
   "metadata": {},
   "outputs": [
    {
     "data": {
      "text/html": [
       "<div>\n",
       "<style scoped>\n",
       "    .dataframe tbody tr th:only-of-type {\n",
       "        vertical-align: middle;\n",
       "    }\n",
       "\n",
       "    .dataframe tbody tr th {\n",
       "        vertical-align: top;\n",
       "    }\n",
       "\n",
       "    .dataframe thead th {\n",
       "        text-align: right;\n",
       "    }\n",
       "</style>\n",
       "<table border=\"1\" class=\"dataframe\">\n",
       "  <thead>\n",
       "    <tr style=\"text-align: right;\">\n",
       "      <th></th>\n",
       "      <th>id</th>\n",
       "      <th>units</th>\n",
       "      <th>stories</th>\n",
       "      <th>zip</th>\n",
       "      <th>age</th>\n",
       "      <th>Co-op</th>\n",
       "      <th>Condo</th>\n",
       "      <th>Rental Building</th>\n",
       "      <th>Single-Family Home</th>\n",
       "      <th>Doorman</th>\n",
       "      <th>Full-time Doorman</th>\n",
       "      <th>Elevator</th>\n",
       "      <th>Part-time Doorman</th>\n",
       "      <th>Cats and Dogs Allowed</th>\n",
       "      <th>Cats Only - No Dogs</th>\n",
       "      <th>Pets Allowed</th>\n",
       "    </tr>\n",
       "  </thead>\n",
       "  <tbody>\n",
       "    <tr>\n",
       "      <th>11</th>\n",
       "      <td>71007</td>\n",
       "      <td>5</td>\n",
       "      <td>6</td>\n",
       "      <td>10009.0</td>\n",
       "      <td>12</td>\n",
       "      <td>0</td>\n",
       "      <td>1</td>\n",
       "      <td>0</td>\n",
       "      <td>0</td>\n",
       "      <td>0</td>\n",
       "      <td>0</td>\n",
       "      <td>1</td>\n",
       "      <td>0</td>\n",
       "      <td>1</td>\n",
       "      <td>0</td>\n",
       "      <td>0</td>\n",
       "    </tr>\n",
       "    <tr>\n",
       "      <th>19</th>\n",
       "      <td>71093</td>\n",
       "      <td>1</td>\n",
       "      <td>4</td>\n",
       "      <td>10003.0</td>\n",
       "      <td>120</td>\n",
       "      <td>0</td>\n",
       "      <td>0</td>\n",
       "      <td>0</td>\n",
       "      <td>1</td>\n",
       "      <td>1</td>\n",
       "      <td>0</td>\n",
       "      <td>1</td>\n",
       "      <td>0</td>\n",
       "      <td>0</td>\n",
       "      <td>0</td>\n",
       "      <td>0</td>\n",
       "    </tr>\n",
       "    <tr>\n",
       "      <th>20</th>\n",
       "      <td>71093</td>\n",
       "      <td>1</td>\n",
       "      <td>4</td>\n",
       "      <td>10003.0</td>\n",
       "      <td>120</td>\n",
       "      <td>0</td>\n",
       "      <td>0</td>\n",
       "      <td>0</td>\n",
       "      <td>1</td>\n",
       "      <td>1</td>\n",
       "      <td>0</td>\n",
       "      <td>1</td>\n",
       "      <td>0</td>\n",
       "      <td>0</td>\n",
       "      <td>0</td>\n",
       "      <td>0</td>\n",
       "    </tr>\n",
       "    <tr>\n",
       "      <th>74</th>\n",
       "      <td>72297</td>\n",
       "      <td>2</td>\n",
       "      <td>4</td>\n",
       "      <td>10016.0</td>\n",
       "      <td>99</td>\n",
       "      <td>1</td>\n",
       "      <td>0</td>\n",
       "      <td>0</td>\n",
       "      <td>0</td>\n",
       "      <td>0</td>\n",
       "      <td>0</td>\n",
       "      <td>1</td>\n",
       "      <td>0</td>\n",
       "      <td>0</td>\n",
       "      <td>0</td>\n",
       "      <td>0</td>\n",
       "    </tr>\n",
       "    <tr>\n",
       "      <th>85</th>\n",
       "      <td>72483</td>\n",
       "      <td>355</td>\n",
       "      <td>36</td>\n",
       "      <td>10016.0</td>\n",
       "      <td>45</td>\n",
       "      <td>0</td>\n",
       "      <td>0</td>\n",
       "      <td>1</td>\n",
       "      <td>0</td>\n",
       "      <td>1</td>\n",
       "      <td>0</td>\n",
       "      <td>1</td>\n",
       "      <td>0</td>\n",
       "      <td>0</td>\n",
       "      <td>0</td>\n",
       "      <td>0</td>\n",
       "    </tr>\n",
       "  </tbody>\n",
       "</table>\n",
       "</div>"
      ],
      "text/plain": [
       "       id  units  stories      zip  age  Co-op  Condo  Rental Building  \\\n",
       "11  71007      5        6  10009.0   12      0      1                0   \n",
       "19  71093      1        4  10003.0  120      0      0                0   \n",
       "20  71093      1        4  10003.0  120      0      0                0   \n",
       "74  72297      2        4  10016.0   99      1      0                0   \n",
       "85  72483    355       36  10016.0   45      0      0                1   \n",
       "\n",
       "    Single-Family Home  Doorman  Full-time Doorman  Elevator  \\\n",
       "11                   0        0                  0         1   \n",
       "19                   1        1                  0         1   \n",
       "20                   1        1                  0         1   \n",
       "74                   0        0                  0         1   \n",
       "85                   0        1                  0         1   \n",
       "\n",
       "    Part-time Doorman  Cats and Dogs Allowed  Cats Only - No Dogs  \\\n",
       "11                  0                      1                    0   \n",
       "19                  0                      0                    0   \n",
       "20                  0                      0                    0   \n",
       "74                  0                      0                    0   \n",
       "85                  0                      0                    0   \n",
       "\n",
       "    Pets Allowed  \n",
       "11             0  \n",
       "19             0  \n",
       "20             0  \n",
       "74             0  \n",
       "85             0  "
      ]
     },
     "execution_count": 35,
     "metadata": {},
     "output_type": "execute_result"
    }
   ],
   "source": [
    "temp.head()"
   ]
  },
  {
   "cell_type": "code",
   "execution_count": 36,
   "metadata": {},
   "outputs": [],
   "source": [
    "building = temp.copy()"
   ]
  },
  {
   "cell_type": "markdown",
   "metadata": {},
   "source": [
    "# Merge Data"
   ]
  },
  {
   "cell_type": "code",
   "execution_count": 37,
   "metadata": {},
   "outputs": [
    {
     "data": {
      "text/plain": [
       "Index(['ZIPCODE', 'SCORE'], dtype='object')"
      ]
     },
     "execution_count": 37,
     "metadata": {},
     "output_type": "execute_result"
    }
   ],
   "source": [
    "inspection.columns"
   ]
  },
  {
   "cell_type": "code",
   "execution_count": 38,
   "metadata": {},
   "outputs": [
    {
     "data": {
      "text/plain": [
       "Index(['id', 'units', 'stories', 'zip', 'age', 'Co-op', 'Condo',\n",
       "       'Rental Building', 'Single-Family Home', 'Doorman', 'Full-time Doorman',\n",
       "       'Elevator', 'Part-time Doorman', 'Cats and Dogs Allowed',\n",
       "       'Cats Only - No Dogs', 'Pets Allowed'],\n",
       "      dtype='object')"
      ]
     },
     "execution_count": 38,
     "metadata": {},
     "output_type": "execute_result"
    }
   ],
   "source": [
    "building.columns"
   ]
  },
  {
   "cell_type": "code",
   "execution_count": 39,
   "metadata": {},
   "outputs": [
    {
     "data": {
      "text/plain": [
       "Index(['unit', 'status', 'no_rooms', 'no_bath', 'area(ftsq)', 'id'], dtype='object')"
      ]
     },
     "execution_count": 39,
     "metadata": {},
     "output_type": "execute_result"
    }
   ],
   "source": [
    "units.columns"
   ]
  },
  {
   "cell_type": "code",
   "execution_count": 40,
   "metadata": {},
   "outputs": [
    {
     "data": {
      "text/plain": [
       "(12557, 6)"
      ]
     },
     "execution_count": 40,
     "metadata": {},
     "output_type": "execute_result"
    }
   ],
   "source": [
    "units.shape"
   ]
  },
  {
   "cell_type": "code",
   "execution_count": 41,
   "metadata": {},
   "outputs": [
    {
     "data": {
      "text/plain": [
       "(247, 16)"
      ]
     },
     "execution_count": 41,
     "metadata": {},
     "output_type": "execute_result"
    }
   ],
   "source": [
    "building.shape"
   ]
  },
  {
   "cell_type": "code",
   "execution_count": 42,
   "metadata": {},
   "outputs": [],
   "source": [
    "m1 = pd.merge(left=units, right=building, left_on='id', right_on='id', how='left')"
   ]
  },
  {
   "cell_type": "code",
   "execution_count": 43,
   "metadata": {},
   "outputs": [],
   "source": [
    "m2 = pd.merge(left=m1, right=inspection, left_on='zip', right_on='ZIPCODE', how='left')"
   ]
  },
  {
   "cell_type": "code",
   "execution_count": 44,
   "metadata": {},
   "outputs": [],
   "source": [
    "res = m2.dropna()"
   ]
  },
  {
   "cell_type": "markdown",
   "metadata": {},
   "source": [
    "# Output"
   ]
  },
  {
   "cell_type": "code",
   "execution_count": 45,
   "metadata": {},
   "outputs": [],
   "source": [
    "res.to_csv(\"building_units_inspection.csv\",index_label=False)"
   ]
  },
  {
   "cell_type": "code",
   "execution_count": null,
   "metadata": {},
   "outputs": [],
   "source": []
  }
 ],
 "metadata": {
  "kernelspec": {
   "display_name": "ADS",
   "language": "python",
   "name": "ads"
  },
  "language_info": {
   "codemirror_mode": {
    "name": "ipython",
    "version": 3
   },
   "file_extension": ".py",
   "mimetype": "text/x-python",
   "name": "python",
   "nbconvert_exporter": "python",
   "pygments_lexer": "ipython3",
   "version": "3.5.0"
  }
 },
 "nbformat": 4,
 "nbformat_minor": 2
}
